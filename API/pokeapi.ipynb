{
 "cells": [
  {
   "cell_type": "markdown",
   "metadata": {
    "id": "t1-umGlVYimD"
   },
   "source": [
    "# Задание 1 \n",
    "\n",
    "Для всех видов покемонов от 1 до 700 включительно соберите следующие параметры: \n",
    "- имя – 'name'\n",
    "- как часто их захватывают – 'capture_rate'\n",
    "- соотношение полов – 'gender_rate'\n",
    "- форму – 'shape'\n",
    "- уровень счастья – 'base_happiness'\n",
    "- цвет – 'color'\n",
    "- поколение – 'generation'\n",
    "- является ли вид покемона легендарным – 'is_legendary'\n",
    "- является ли вид покемона мифическим – 'is_mythical'\n",
    "\n",
    "Сохраните таблицу в .csv формате (без столбца индексов).\n"
   ]
  },
  {
   "cell_type": "code",
   "execution_count": 1,
   "metadata": {
    "executionInfo": {
     "elapsed": 847,
     "status": "ok",
     "timestamp": 1654708143844,
     "user": {
      "displayName": "Mike Antekov",
      "userId": "18098464199046552064"
     },
     "user_tz": -180
    },
    "id": "H-okaTtvRXgS"
   },
   "outputs": [],
   "source": [
    "import requests\n",
    "import pandas as pd\n",
    "import json"
   ]
  },
  {
   "cell_type": "code",
   "execution_count": 2,
   "metadata": {
    "executionInfo": {
     "elapsed": 60970,
     "status": "ok",
     "timestamp": 1654709090097,
     "user": {
      "displayName": "Mike Antekov",
      "userId": "18098464199046552064"
     },
     "user_tz": -180
    },
    "id": "CrG0Yeu1Sv31"
   },
   "outputs": [],
   "source": [
    "base_url = 'https://pokeapi.co/api/v2/pokemon-species/'\n",
    "\n",
    "df = pd.DataFrame()\n",
    "\n",
    "for id in range(1, 701):\n",
    "    url = base_url + str(id) + '/'\n",
    "    r = requests.get(url)\n",
    "    pokemon = r.json()\n",
    "\n",
    "    d = {\n",
    "        'id': id,\n",
    "        'name': pokemon['name'],\n",
    "         'capture_rate': pokemon['capture_rate'],\n",
    "         'gender_rate': pokemon['gender_rate'],\n",
    "         'shape': pokemon['shape']['name'],\n",
    "         'base_happiness': pokemon['base_happiness'],\n",
    "         'color': pokemon['color']['name'],\n",
    "         'generation': pokemon['generation']['name'],\n",
    "         'is_legendary': pokemon['is_legendary'],\n",
    "         'is_mythical': pokemon['is_mythical'],\n",
    "    }\n",
    "\n",
    "    df = df.append(d, ignore_index=True)"
   ]
  },
  {
   "cell_type": "code",
   "execution_count": 3,
   "metadata": {
    "colab": {
     "base_uri": "https://localhost:8080/",
     "height": 424
    },
    "executionInfo": {
     "elapsed": 565,
     "status": "ok",
     "timestamp": 1654709284157,
     "user": {
      "displayName": "Mike Antekov",
      "userId": "18098464199046552064"
     },
     "user_tz": -180
    },
    "id": "_OmF386DVm5J",
    "outputId": "bd67ec65-f774-46ac-d95f-7c44a481026a"
   },
   "outputs": [
    {
     "data": {
      "text/html": [
       "<div>\n",
       "<style scoped>\n",
       "    .dataframe tbody tr th:only-of-type {\n",
       "        vertical-align: middle;\n",
       "    }\n",
       "\n",
       "    .dataframe tbody tr th {\n",
       "        vertical-align: top;\n",
       "    }\n",
       "\n",
       "    .dataframe thead th {\n",
       "        text-align: right;\n",
       "    }\n",
       "</style>\n",
       "<table border=\"1\" class=\"dataframe\">\n",
       "  <thead>\n",
       "    <tr style=\"text-align: right;\">\n",
       "      <th></th>\n",
       "      <th>id</th>\n",
       "      <th>name</th>\n",
       "      <th>capture_rate</th>\n",
       "      <th>gender_rate</th>\n",
       "      <th>shape</th>\n",
       "      <th>base_happiness</th>\n",
       "      <th>color</th>\n",
       "      <th>generation</th>\n",
       "      <th>is_legendary</th>\n",
       "      <th>is_mythical</th>\n",
       "    </tr>\n",
       "  </thead>\n",
       "  <tbody>\n",
       "    <tr>\n",
       "      <th>0</th>\n",
       "      <td>1</td>\n",
       "      <td>bulbasaur</td>\n",
       "      <td>45</td>\n",
       "      <td>1</td>\n",
       "      <td>quadruped</td>\n",
       "      <td>50</td>\n",
       "      <td>green</td>\n",
       "      <td>generation-i</td>\n",
       "      <td>False</td>\n",
       "      <td>False</td>\n",
       "    </tr>\n",
       "    <tr>\n",
       "      <th>1</th>\n",
       "      <td>2</td>\n",
       "      <td>ivysaur</td>\n",
       "      <td>45</td>\n",
       "      <td>1</td>\n",
       "      <td>quadruped</td>\n",
       "      <td>50</td>\n",
       "      <td>green</td>\n",
       "      <td>generation-i</td>\n",
       "      <td>False</td>\n",
       "      <td>False</td>\n",
       "    </tr>\n",
       "    <tr>\n",
       "      <th>2</th>\n",
       "      <td>3</td>\n",
       "      <td>venusaur</td>\n",
       "      <td>45</td>\n",
       "      <td>1</td>\n",
       "      <td>quadruped</td>\n",
       "      <td>50</td>\n",
       "      <td>green</td>\n",
       "      <td>generation-i</td>\n",
       "      <td>False</td>\n",
       "      <td>False</td>\n",
       "    </tr>\n",
       "    <tr>\n",
       "      <th>3</th>\n",
       "      <td>4</td>\n",
       "      <td>charmander</td>\n",
       "      <td>45</td>\n",
       "      <td>1</td>\n",
       "      <td>upright</td>\n",
       "      <td>50</td>\n",
       "      <td>red</td>\n",
       "      <td>generation-i</td>\n",
       "      <td>False</td>\n",
       "      <td>False</td>\n",
       "    </tr>\n",
       "    <tr>\n",
       "      <th>4</th>\n",
       "      <td>5</td>\n",
       "      <td>charmeleon</td>\n",
       "      <td>45</td>\n",
       "      <td>1</td>\n",
       "      <td>upright</td>\n",
       "      <td>50</td>\n",
       "      <td>red</td>\n",
       "      <td>generation-i</td>\n",
       "      <td>False</td>\n",
       "      <td>False</td>\n",
       "    </tr>\n",
       "    <tr>\n",
       "      <th>...</th>\n",
       "      <td>...</td>\n",
       "      <td>...</td>\n",
       "      <td>...</td>\n",
       "      <td>...</td>\n",
       "      <td>...</td>\n",
       "      <td>...</td>\n",
       "      <td>...</td>\n",
       "      <td>...</td>\n",
       "      <td>...</td>\n",
       "      <td>...</td>\n",
       "    </tr>\n",
       "    <tr>\n",
       "      <th>695</th>\n",
       "      <td>696</td>\n",
       "      <td>tyrunt</td>\n",
       "      <td>45</td>\n",
       "      <td>1</td>\n",
       "      <td>upright</td>\n",
       "      <td>50</td>\n",
       "      <td>brown</td>\n",
       "      <td>generation-vi</td>\n",
       "      <td>False</td>\n",
       "      <td>False</td>\n",
       "    </tr>\n",
       "    <tr>\n",
       "      <th>696</th>\n",
       "      <td>697</td>\n",
       "      <td>tyrantrum</td>\n",
       "      <td>45</td>\n",
       "      <td>1</td>\n",
       "      <td>upright</td>\n",
       "      <td>50</td>\n",
       "      <td>red</td>\n",
       "      <td>generation-vi</td>\n",
       "      <td>False</td>\n",
       "      <td>False</td>\n",
       "    </tr>\n",
       "    <tr>\n",
       "      <th>697</th>\n",
       "      <td>698</td>\n",
       "      <td>amaura</td>\n",
       "      <td>45</td>\n",
       "      <td>1</td>\n",
       "      <td>quadruped</td>\n",
       "      <td>50</td>\n",
       "      <td>blue</td>\n",
       "      <td>generation-vi</td>\n",
       "      <td>False</td>\n",
       "      <td>False</td>\n",
       "    </tr>\n",
       "    <tr>\n",
       "      <th>698</th>\n",
       "      <td>699</td>\n",
       "      <td>aurorus</td>\n",
       "      <td>45</td>\n",
       "      <td>1</td>\n",
       "      <td>quadruped</td>\n",
       "      <td>50</td>\n",
       "      <td>blue</td>\n",
       "      <td>generation-vi</td>\n",
       "      <td>False</td>\n",
       "      <td>False</td>\n",
       "    </tr>\n",
       "    <tr>\n",
       "      <th>699</th>\n",
       "      <td>700</td>\n",
       "      <td>sylveon</td>\n",
       "      <td>45</td>\n",
       "      <td>1</td>\n",
       "      <td>quadruped</td>\n",
       "      <td>50</td>\n",
       "      <td>pink</td>\n",
       "      <td>generation-vi</td>\n",
       "      <td>False</td>\n",
       "      <td>False</td>\n",
       "    </tr>\n",
       "  </tbody>\n",
       "</table>\n",
       "<p>700 rows × 10 columns</p>\n",
       "</div>"
      ],
      "text/plain": [
       "      id        name  capture_rate  gender_rate      shape  base_happiness  \\\n",
       "0      1   bulbasaur            45            1  quadruped              50   \n",
       "1      2     ivysaur            45            1  quadruped              50   \n",
       "2      3    venusaur            45            1  quadruped              50   \n",
       "3      4  charmander            45            1    upright              50   \n",
       "4      5  charmeleon            45            1    upright              50   \n",
       "..   ...         ...           ...          ...        ...             ...   \n",
       "695  696      tyrunt            45            1    upright              50   \n",
       "696  697   tyrantrum            45            1    upright              50   \n",
       "697  698      amaura            45            1  quadruped              50   \n",
       "698  699     aurorus            45            1  quadruped              50   \n",
       "699  700     sylveon            45            1  quadruped              50   \n",
       "\n",
       "     color     generation  is_legendary  is_mythical  \n",
       "0    green   generation-i         False        False  \n",
       "1    green   generation-i         False        False  \n",
       "2    green   generation-i         False        False  \n",
       "3      red   generation-i         False        False  \n",
       "4      red   generation-i         False        False  \n",
       "..     ...            ...           ...          ...  \n",
       "695  brown  generation-vi         False        False  \n",
       "696    red  generation-vi         False        False  \n",
       "697   blue  generation-vi         False        False  \n",
       "698   blue  generation-vi         False        False  \n",
       "699   pink  generation-vi         False        False  \n",
       "\n",
       "[700 rows x 10 columns]"
      ]
     },
     "execution_count": 3,
     "metadata": {},
     "output_type": "execute_result"
    }
   ],
   "source": [
    "df.id = df.id.astype(int)\n",
    "df.capture_rate = df.capture_rate.astype(int)\n",
    "df.gender_rate = df.gender_rate.astype(int)\n",
    "df.base_happiness = df.base_happiness.astype(int)\n",
    "df.is_legendary = df.is_legendary.astype(bool)\n",
    "df.is_mythical = df.is_mythical.astype(bool)\n",
    "df"
   ]
  },
  {
   "cell_type": "code",
   "execution_count": 4,
   "metadata": {
    "executionInfo": {
     "elapsed": 281,
     "status": "ok",
     "timestamp": 1654709289735,
     "user": {
      "displayName": "Mike Antekov",
      "userId": "18098464199046552064"
     },
     "user_tz": -180
    },
    "id": "Iuju2wRlWB_1"
   },
   "outputs": [],
   "source": [
    "df.to_csv('pokemons.csv', index=False)"
   ]
  },
  {
   "cell_type": "markdown",
   "metadata": {
    "id": "4OsBo_uQY0GC"
   },
   "source": [
    "# Задание 2 \n",
    "\n",
    "Найдите ответы на следующие вопросы:\n",
    "\n",
    "\n",
    "1.\tСколько существует покемонов-девочек? Сколько из них требуется для эволюции?\n",
    "2.\tСколько покемонов держало 17 по счету item?\n",
    "3.\tСколько весит второй покемон из списка покемонов в предыдущем вопросе?\n"
   ]
  },
  {
   "cell_type": "markdown",
   "metadata": {
    "id": "KlmKPJYCY6-q"
   },
   "source": [
    "1.\tСколько существует покемонов-девочек?\n",
    "\n",
    "Genders endpoint: https://pokeapi.co/api/v2/gender/1/"
   ]
  },
  {
   "cell_type": "code",
   "execution_count": 5,
   "metadata": {},
   "outputs": [],
   "source": [
    "source = requests.get('https://pokeapi.co/api/v2/gender/1/').json()['pokemon_species_details']\n",
    "female_pokemos = set([g['pokemon_species']['name'] for g in source])"
   ]
  },
  {
   "cell_type": "code",
   "execution_count": 6,
   "metadata": {},
   "outputs": [
    {
     "data": {
      "text/plain": [
       "841"
      ]
     },
     "execution_count": 6,
     "metadata": {},
     "output_type": "execute_result"
    }
   ],
   "source": [
    "len(female_pokemos)"
   ]
  },
  {
   "cell_type": "markdown",
   "metadata": {
    "id": "Uvdb2JeZaWjN"
   },
   "source": [
    "-  Сколько из них требуется для эволюции?\n",
    "\n",
    "Запросим имена покемонов, которые для пола `female` перечислены в списке `required_for_evolution`, и добавим их во множество."
   ]
  },
  {
   "cell_type": "code",
   "execution_count": 7,
   "metadata": {
    "colab": {
     "base_uri": "https://localhost:8080/"
    },
    "executionInfo": {
     "elapsed": 8,
     "status": "ok",
     "timestamp": 1654710752250,
     "user": {
      "displayName": "Mike Antekov",
      "userId": "18098464199046552064"
     },
     "user_tz": -180
    },
    "id": "zutfgUGGbxBU",
    "outputId": "5d9f10f2-773c-464a-e7c8-b2a02ea7e8b5"
   },
   "outputs": [
    {
     "data": {
      "text/plain": [
       "{'froslass', 'salazzle', 'vespiquen', 'wormadam'}"
      ]
     },
     "execution_count": 7,
     "metadata": {},
     "output_type": "execute_result"
    }
   ],
   "source": [
    "required_for_evolution = set([g['name'] for g in requests.get('https://pokeapi.co/api/v2/gender/1').json()['required_for_evolution']])\n",
    "required_for_evolution"
   ]
  },
  {
   "cell_type": "markdown",
   "metadata": {
    "id": "PBEY4_u1c0CU"
   },
   "source": [
    "Найдём пересечение двух множеств"
   ]
  },
  {
   "cell_type": "code",
   "execution_count": 8,
   "metadata": {},
   "outputs": [
    {
     "data": {
      "text/plain": [
       "{'froslass', 'salazzle', 'vespiquen', 'wormadam'}"
      ]
     },
     "execution_count": 8,
     "metadata": {},
     "output_type": "execute_result"
    }
   ],
   "source": [
    "girls_required_for_evolution = required_for_evolution.intersection(female_pokemos)\n",
    "girls_required_for_evolution"
   ]
  },
  {
   "cell_type": "markdown",
   "metadata": {
    "id": "eGtxobTZddad"
   },
   "source": [
    "для эволюции требуется четыре:"
   ]
  },
  {
   "cell_type": "code",
   "execution_count": 9,
   "metadata": {
    "colab": {
     "base_uri": "https://localhost:8080/"
    },
    "executionInfo": {
     "elapsed": 6,
     "status": "ok",
     "timestamp": 1654710975637,
     "user": {
      "displayName": "Mike Antekov",
      "userId": "18098464199046552064"
     },
     "user_tz": -180
    },
    "id": "ohSc8uNrdaI-",
    "outputId": "7c437ec7-a16a-4963-f1c3-c5bc51585b45"
   },
   "outputs": [
    {
     "data": {
      "text/plain": [
       "4"
      ]
     },
     "execution_count": 9,
     "metadata": {},
     "output_type": "execute_result"
    }
   ],
   "source": [
    "len(girls_required_for_evolution)"
   ]
  },
  {
   "cell_type": "markdown",
   "metadata": {
    "id": "cj3FqRGse3NX"
   },
   "source": [
    "2.\tСколько покемонов держало 17 по счету item?"
   ]
  },
  {
   "cell_type": "markdown",
   "metadata": {
    "id": "YbZJxRxSe-he"
   },
   "source": [
    "Получим список покемонов, которые держали `item` с идентификатором `17`. Их только два:"
   ]
  },
  {
   "cell_type": "code",
   "execution_count": 10,
   "metadata": {
    "colab": {
     "base_uri": "https://localhost:8080/"
    },
    "executionInfo": {
     "elapsed": 322,
     "status": "ok",
     "timestamp": 1654711588443,
     "user": {
      "displayName": "Mike Antekov",
      "userId": "18098464199046552064"
     },
     "user_tz": -180
    },
    "id": "mIKail3Ae1sP",
    "outputId": "6ec2a581-cc8f-455a-cdd4-ed775b3a13f2"
   },
   "outputs": [
    {
     "data": {
      "text/plain": [
       "['zigzagoon', 'linoone']"
      ]
     },
     "execution_count": 10,
     "metadata": {},
     "output_type": "execute_result"
    }
   ],
   "source": [
    "pokemons17 = [p['pokemon']['name'] for p in requests.get('https://pokeapi.co/api/v2/item/17').json()['held_by_pokemon']]\n",
    "pokemons17"
   ]
  },
  {
   "cell_type": "code",
   "execution_count": 11,
   "metadata": {
    "colab": {
     "base_uri": "https://localhost:8080/"
    },
    "executionInfo": {
     "elapsed": 294,
     "status": "ok",
     "timestamp": 1654711628295,
     "user": {
      "displayName": "Mike Antekov",
      "userId": "18098464199046552064"
     },
     "user_tz": -180
    },
    "id": "jWbhAf-Kf3sx",
    "outputId": "8120452b-7b7b-4b68-fdd9-cb3b624f83ac"
   },
   "outputs": [
    {
     "data": {
      "text/plain": [
       "2"
      ]
     },
     "execution_count": 11,
     "metadata": {},
     "output_type": "execute_result"
    }
   ],
   "source": [
    "len(pokemons17)"
   ]
  },
  {
   "cell_type": "markdown",
   "metadata": {
    "id": "ZNmDZGGkgB2v"
   },
   "source": [
    "3.\tСколько весит второй покемон из списка покемонов в предыдущем вопросе?"
   ]
  },
  {
   "cell_type": "code",
   "execution_count": 12,
   "metadata": {
    "colab": {
     "base_uri": "https://localhost:8080/",
     "height": 35
    },
    "executionInfo": {
     "elapsed": 14,
     "status": "ok",
     "timestamp": 1654711705008,
     "user": {
      "displayName": "Mike Antekov",
      "userId": "18098464199046552064"
     },
     "user_tz": -180
    },
    "id": "OBuyBvtTgDjV",
    "outputId": "aced30e7-cc97-4bf8-886b-a89ca4f2fad8"
   },
   "outputs": [
    {
     "data": {
      "text/plain": [
       "'linoone'"
      ]
     },
     "execution_count": 12,
     "metadata": {},
     "output_type": "execute_result"
    }
   ],
   "source": [
    "pokemon2 = pokemons17[1]\n",
    "pokemon2"
   ]
  },
  {
   "cell_type": "code",
   "execution_count": 13,
   "metadata": {
    "colab": {
     "base_uri": "https://localhost:8080/"
    },
    "executionInfo": {
     "elapsed": 408,
     "status": "ok",
     "timestamp": 1654711971681,
     "user": {
      "displayName": "Mike Antekov",
      "userId": "18098464199046552064"
     },
     "user_tz": -180
    },
    "id": "B7cS0SXihBTE",
    "outputId": "d6a3f9c0-8dd2-461c-c993-3331ab1d4b6e"
   },
   "outputs": [
    {
     "data": {
      "text/plain": [
       "325"
      ]
     },
     "execution_count": 13,
     "metadata": {},
     "output_type": "execute_result"
    }
   ],
   "source": [
    "requests.get('https://pokeapi.co/api/v2/pokemon/' + pokemon2 + '/').json()['weight']"
   ]
  },
  {
   "cell_type": "code",
   "execution_count": null,
   "metadata": {},
   "outputs": [],
   "source": []
  }
 ],
 "metadata": {
  "colab": {
   "authorship_tag": "ABX9TyMbb96tV1S0zLV/vxtdGLmR",
   "collapsed_sections": [],
   "name": "Pokemon.ipynb",
   "provenance": []
  },
  "kernelspec": {
   "display_name": "Python 3",
   "language": "python",
   "name": "python3"
  },
  "language_info": {
   "codemirror_mode": {
    "name": "ipython",
    "version": 3
   },
   "file_extension": ".py",
   "mimetype": "text/x-python",
   "name": "python",
   "nbconvert_exporter": "python",
   "pygments_lexer": "ipython3",
   "version": "3.8.5"
  }
 },
 "nbformat": 4,
 "nbformat_minor": 1
}
