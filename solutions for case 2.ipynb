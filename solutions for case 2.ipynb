{
 "cells": [
  {
   "cell_type": "code",
   "execution_count": null,
   "metadata": {},
   "outputs": [],
   "source": [
    "# Файл\n",
    "!wget https://gist.github.com/Vs8th/38d5d914171c84166728a9746d212bad/raw/auto_purchase.log"
   ]
  },
  {
   "cell_type": "markdown",
   "metadata": {},
   "source": [
    "### Задание 1"
   ]
  },
  {
   "cell_type": "code",
   "execution_count": null,
   "metadata": {},
   "outputs": [],
   "source": [
    "def count_success_and_failure(file_path):\n",
    "    with open(file_path, encoding='utf-8') as f:\n",
    "        lines = f.readlines()\n",
    "\n",
    "    result_dict = {'total_errors':0, 'subscription_renewal':0}\n",
    "\n",
    "    for i, line in enumerate(lines):\n",
    "        if 'ERROR' in line:\n",
    "            result_dict['total_errors'] = result_dict.get('total_errors',0) + 1\n",
    "        if 'Обновляем подписку пользователю id:' in line:\n",
    "            if i == len(lines)-1 or 'ошибка при списании' not in lines[i+1]:\n",
    "                result_dict['subscription_renewal'] = result_dict.get('subscription_renewal',0) + 1\n",
    "\n",
    "    return (result_dict['subscription_renewal'], result_dict['total_errors'])"
   ]
  },
  {
   "cell_type": "code",
   "execution_count": null,
   "metadata": {},
   "outputs": [],
   "source": []
  },
  {
   "cell_type": "markdown",
   "metadata": {},
   "source": [
    "### Задание 2"
   ]
  },
  {
   "cell_type": "code",
   "execution_count": null,
   "metadata": {},
   "outputs": [],
   "source": [
    "# Загружаем библиотеки\n",
    "import re"
   ]
  },
  {
   "cell_type": "code",
   "execution_count": null,
   "metadata": {},
   "outputs": [],
   "source": [
    "def auto_renewal_sub(log_file_path):\n",
    "    with open(log_file_path, encoding='utf-8') as f:\n",
    "        lines = f.readlines()\n",
    "    \n",
    "    # Формируем словарь, где ключи — это уникальные даты, а значения — пустой список.\n",
    "    dates_dict = {re.findall(r'\\d{4}-\\d{2}-\\d{2}', line)[0]:[] for line in lines}\n",
    "    \n",
    "    # Добавляем значение строки \"количество людей с автопродлением подписки: ...\" в список соответствующей даты.\n",
    "    for line in lines:\n",
    "        date = re.findall(r'\\d{4}-\\d{2}-\\d{2}', line)[0]\n",
    "        if 'количество людей с автопродлением подписки' in line and date in dates_dict:\n",
    "            for part in line.split(\" | \")[-1].split(\" \"):\n",
    "                for el in part.replace(\"\\n\",\"\").split(\" \"):\n",
    "                    if el.isdigit():\n",
    "                        dates_dict[date].append(int(el))\n",
    "    \n",
    "    # Если в какую-либо дату было несколько сообщений о количестве продлений, берем максимальное значение.\n",
    "    unique_dates_updated = {k:max(v) for k, v in dates_dict.items()}\n",
    "    unique_dates_list = list(unique_dates_updated.values())\n",
    "\n",
    "    # Рассчитываем сглаженные значения. \n",
    "    running_avg = [round(sum(unique_dates_list[:(i+1)])/len(unique_dates_list[:(i+1)]),2) for i, j in enumerate(unique_dates_list)]\n",
    "    running_median = [sorted(unique_dates_list[:(i+1)], reverse=True)[len(unique_dates_list[:(i+1)])//2] for i, j in enumerate(unique_dates_list)]\n",
    "\n",
    "    # Записываем в файл.\n",
    "    with open('auto_renewal_sub.txt', mode='w') as file:\n",
    "        file.write(f'Среднее: {running_avg}\\nМедиана: {running_median}')"
   ]
  },
  {
   "cell_type": "code",
   "execution_count": null,
   "metadata": {},
   "outputs": [],
   "source": []
  },
  {
   "cell_type": "markdown",
   "metadata": {},
   "source": [
    "### Задание 3"
   ]
  },
  {
   "cell_type": "code",
   "execution_count": null,
   "metadata": {},
   "outputs": [],
   "source": [
    "# Загружаем библиотеки\n",
    "import re\n",
    "from datetime import datetime"
   ]
  },
  {
   "cell_type": "code",
   "execution_count": null,
   "metadata": {},
   "outputs": [],
   "source": [
    "def sub_renewal_by_day(file_path):\n",
    "    with open(file_path, encoding='utf-8') as f:\n",
    "        lines = f.readlines()\n",
    "\n",
    "    result_dict = {}\n",
    "    \n",
    "    # Формируем словарь, где ключи — это даты продления подписки, а значения — количество успешных продлений.\n",
    "    for i, line in enumerate(lines):\n",
    "        if 'Обновляем подписку пользователю id:' in line:\n",
    "            if i == len(lines)-1 or 'ошибка при списании' not in lines[i+1]:\n",
    "                pattern = re.compile(r\"\\d{4}-\\d{2}-\\d{2}\")\n",
    "                date = pattern.search(line).group()\n",
    "                result_dict[date] = result_dict.get(date,0) + 1\n",
    "    \n",
    "    # Переводим даты в дни недели и суммируем количество успешных продлений по каждому дню недели.\n",
    "    week_days = {\"Monday\": 0,\n",
    "            \"Tuesday\":0,\n",
    "            \"Wednesday\":0,\n",
    "            \"Thursday\":0,\n",
    "            \"Friday\":0,\n",
    "            \"Saturday\":0,\n",
    "            \"Sunday\":0}\n",
    "    for k,v in result_dict.items():\n",
    "        if datetime.strptime(k, \"%Y-%m-%d\").strftime('%A') in week_days:\n",
    "            week_days[datetime.strptime(k, \"%Y-%m-%d\").strftime('%A')] += result_dict[k]\n",
    "\n",
    "    # Формируем словарь и заменяем англоязычные названия дней недели на русскоязычные.\n",
    "    weekDaysMapping = {\"Monday\": \"Понедельник\",\n",
    "                   \"Tuesday\":\"Вторник\",\n",
    "                   \"Wednesday\":\"Среда\",\n",
    "                   \"Thursday\":\"Четверг\",\n",
    "                   \"Friday\":\"Пятница\",\n",
    "                   \"Saturday\":\"Суббота\",\n",
    "                   \"Sunday\":\"Воскресенье\"}\n",
    "\n",
    "    dates_to_day = {weekDaysMapping.get(k):v for k,v in week_days.items()}\n",
    "\n",
    "    # Преобразуем данные в требуемый формат.\n",
    "    res_data = ['Количество обновлений подписки по дням недели:']\n",
    "    for key, values in dates_to_day.items():\n",
    "        res_data.append(f'{key}: {values}')\n",
    "\n",
    "    # Записываем данные в файл.\n",
    "    with open('weekdays.txt', mode='w', newline='') as file:\n",
    "        file.writelines('\\n'.join(res_data))"
   ]
  },
  {
   "cell_type": "code",
   "execution_count": null,
   "metadata": {},
   "outputs": [],
   "source": []
  }
 ],
 "metadata": {
  "kernelspec": {
   "display_name": "Python 3",
   "language": "python",
   "name": "python3"
  },
  "language_info": {
   "codemirror_mode": {
    "name": "ipython",
    "version": 3
   },
   "file_extension": ".py",
   "mimetype": "text/x-python",
   "name": "python",
   "nbconvert_exporter": "python",
   "pygments_lexer": "ipython3",
   "version": "3.8.5"
  }
 },
 "nbformat": 4,
 "nbformat_minor": 4
}
