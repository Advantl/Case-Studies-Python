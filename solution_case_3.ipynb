{
 "cells": [
  {
   "cell_type": "code",
   "execution_count": null,
   "metadata": {
    "colab": {
     "base_uri": "https://localhost:8080/"
    },
    "id": "3eJFMuMpyCp-",
    "outputId": "416245e8-56e5-4047-928b-4edc36af20ea"
   },
   "outputs": [],
   "source": [
    "# Файл\n",
    "!wget https://gist.github.com/Vs8th/73045f9fe675f43ef7e63ab56f1c08bd/raw/campaign_data.csv"
   ]
  },
  {
   "cell_type": "code",
   "execution_count": 1,
   "metadata": {
    "id": "8lAOd_Jb6ldV"
   },
   "outputs": [],
   "source": [
    "# Загружаем библиотеки\n",
    "import csv\n",
    "from datetime import datetime, timedelta"
   ]
  },
  {
   "cell_type": "markdown",
   "metadata": {
    "id": "s2g2hxfMzqLo"
   },
   "source": [
    "### **Найдите самую эффективную платформу по средним значениям конверсий**\n",
    "\n",
    "Cохраните результат в переменную `most_effective_platform`"
   ]
  },
  {
   "cell_type": "code",
   "execution_count": 8,
   "metadata": {},
   "outputs": [
    {
     "data": {
      "text/plain": [
       "'Instagram'"
      ]
     },
     "execution_count": 8,
     "metadata": {},
     "output_type": "execute_result"
    }
   ],
   "source": [
    "with open ('campaign_data.csv', 'r', encoding='utf-8') as csv_test:\n",
    "    reader_csv = csv.reader(csv_test, delimiter=',')\n",
    "    file_csv = list(reader_csv)\n",
    "    \n",
    "    # Словарь, где ключи — названия платформ, а значения — общая сумма конверсий.\n",
    "    conversion = dict()\n",
    "    # Словарь, где ключи — названия платформ, а значения — их количество.\n",
    "    length = dict() \n",
    "    for line in file_csv[1:]: # Исключаем названия заголовков датафрейма\n",
    "        conversion[line[4]] = conversion.get(line[4],0) + int(line[9])\n",
    "        length[line[4]] = length.get(line[4],0) + 1\n",
    "\n",
    "    # Для каждой платформы вычисляем среднее значение конверсии.\n",
    "    cr = {key: conversion[key] / length.get(key, 0) for key in conversion.keys()}\n",
    "\n",
    "    # Определяем платформу с максимальным значением. \n",
    "    most_successful_campaign_type = max(cr, key=cr.get)\n",
    "most_successful_campaign_type"
   ]
  },
  {
   "cell_type": "markdown",
   "metadata": {
    "id": "TbkdEVLI0Cor"
   },
   "source": [
    "### **Найдите самый успешный тип рекламной кампании по средним значениям конверсий**\n",
    "\n",
    "Сохраните результат в переменную `most_successful_campaign_type`"
   ]
  },
  {
   "cell_type": "code",
   "execution_count": 9,
   "metadata": {
    "colab": {
     "base_uri": "https://localhost:8080/",
     "height": 36
    },
    "id": "XE7qUhzXdws-",
    "outputId": "fdf76484-45a8-4bd8-ee9a-d823e0574c65"
   },
   "outputs": [
    {
     "data": {
      "text/plain": [
       "'Контекстная'"
      ]
     },
     "execution_count": 9,
     "metadata": {},
     "output_type": "execute_result"
    }
   ],
   "source": [
    "with open ('campaign_data.csv', 'r', encoding='utf-8') as csv_test:\n",
    "    reader_csv = csv.reader(csv_test, delimiter=',')\n",
    "    file_csv = list(reader_csv)\n",
    "    \n",
    "    # Словарь, где ключи — тип рекламной кампании, а значения — общая сумма конверсий.\n",
    "    conversion = dict()\n",
    "    # Словарь, где ключи — тип рекламных кампаний, а значения — их количество.\n",
    "    length = dict()\n",
    "    for line in file_csv[1:]:# Исключаем названия заголовков датафрейма\n",
    "        conversion[line[3]] = conversion.get(line[3],0) + int(line[9])\n",
    "        length[line[3]] = length.get(line[3],0) + 1\n",
    "\n",
    "    # Для каждого типа рекламной кампании вычисляем среднее значение конверсии.\n",
    "    cr = {key: conversion[key] / length.get(key, 0) for key in conversion.keys()}\n",
    "    # Определяем тип рекламной кампании с максимальным значением. \n",
    "    most_successful_campaign_type = max(cr, key=cr.get)\n",
    "most_successful_campaign_type"
   ]
  },
  {
   "cell_type": "markdown",
   "metadata": {
    "id": "wxkhEVmF0PAo"
   },
   "source": [
    "### **Найдите самый успешный город проведения кампании по средним значениям конверсий**\n",
    "\n",
    "Сохраните результат в переменную `most_successful_city`"
   ]
  },
  {
   "cell_type": "code",
   "execution_count": 10,
   "metadata": {
    "colab": {
     "base_uri": "https://localhost:8080/",
     "height": 36
    },
    "id": "RYHTN7umgLHL",
    "outputId": "fb886c5e-c019-4430-e3f4-6ac1a3e523d6"
   },
   "outputs": [
    {
     "data": {
      "text/plain": [
       "'Новосибирск'"
      ]
     },
     "execution_count": 10,
     "metadata": {},
     "output_type": "execute_result"
    }
   ],
   "source": [
    "with open ('campaign_data.csv', 'r', encoding='utf-8') as csv_test:\n",
    "    reader_csv = csv.reader(csv_test, delimiter=',')\n",
    "    file_csv = list(reader_csv)\n",
    "    # Словарь, где ключи — город проведения кампании, а значения — общая сумма конверсий.\n",
    "    conversion = dict()\n",
    "    # Словарь, где ключи — город проведения кампании, а значения — их количество.\n",
    "    length = dict()\n",
    "    for line in file_csv[1:]:# Исключаем названия заголовков датафрейма\n",
    "        conversion[line[6]] = conversion.get(line[6],0) + int(line[9])\n",
    "        length[line[6]] = length.get(line[6],0) + 1\n",
    "    # Для каждого города проведения кампании вычисляем среднее значение конверсии.\n",
    "    cr = {key: conversion[key] / length.get(key, 0) for key in conversion.keys()}\n",
    "    # Определяем город проведения кампании с максимальным значением. \n",
    "    most_successful_campaign_type = max(cr, key=cr.get)\n",
    "most_successful_campaign_type"
   ]
  },
  {
   "cell_type": "markdown",
   "metadata": {
    "id": "OrwoZ-wR0jJq"
   },
   "source": [
    "### **Посчитайте долю затрат на рекламные кампании каждой платформы и каждого города**\n",
    "\n",
    "Сохраните результат в файл `platform_city_results.txt`\n",
    "\n",
    "Результат должен иметь такой же порядок групп, что и изначальный файл. А города внутри платформ должны быть отсортированы по убыванию доли затрат, а доля затрат должны быть округлена до 2 знаков после запятой."
   ]
  },
  {
   "cell_type": "markdown",
   "metadata": {
    "id": "WR6M7ooveTp-"
   },
   "source": [
    "Результат должен выглядеть примерно так:\n",
    "\n",
    "```\n",
    "Для группы Telegram:\n",
    "- Город: Москва, доля затрат на рекламу: 16.46%\n",
    "- Город: Калуга, доля затрат на рекламу: 16.2%\n",
    "- Город: Казань, доля затрат на рекламу: 14.57%\n",
    "- ...\n",
    "Для группы Вконтакте:\n",
    "- Город: Екатеринбург, доля затрат на рекламу: 17.43%\n",
    "- Город: Новосибирск, доля затрат на рекламу: 14.86%\n",
    "- Город: Санкт-Петербург, доля затрат на рекламу: 14.13%\n",
    "...\n",
    "```"
   ]
  },
  {
   "cell_type": "code",
   "execution_count": null,
   "metadata": {
    "id": "hKN7vidq0mJ3"
   },
   "outputs": [],
   "source": [
    "with open ('campaign_data.csv', 'r', encoding='utf-8') as csv_test:\n",
    "    reader_csv = csv.reader(csv_test, delimiter=',')\n",
    "    file = list(reader_csv)\n",
    "    # Выявляем список уникальных названий платформ\n",
    "    seen = set()\n",
    "    unique_platforms =  [line[4] for line in file[1:] if line[4] not in seen and (seen.add(line[4]) or True)]\n",
    "    # Формируем словарь, где ключ - это название платформы, взятое из списка уникальных платформ\n",
    "    # а значение  - словарь вида \"город : суммарный бюджет\"\n",
    "    platforms = { platform:{'Казань':0, 'Москва':0, 'Екатеринбург':0,\n",
    "                        'Нижний Новгород':0, 'Санкт-Петербург':0,\n",
    "                        'Краснодар':0, 'Калуга':0, 'Новосибирск':0} for platform in unique_platforms}\n",
    "\n",
    "    # Вычисляем итоговый бюджет для каждого города для каждой платформы.\n",
    "    for line in file:\n",
    "        if line[4] in platforms:\n",
    "            platforms[line[4]][line[6]] += int(line[5])\n",
    "\n",
    "    # Вычисляем итоговый бюджет по каждой платформе\n",
    "    summary = dict()\n",
    "    for key, subdict in platforms.items():\n",
    "        for k, v in subdict.items():\n",
    "            summary[key] = summary.get(key, 0) + v\n",
    "            \n",
    "    # Вычисляем долю затрат\n",
    "    answer = {'Telegram':{}, 'Вконтакте':{}, 'Instagram':{}, 'Google': {}, 'Яндекс':{}}\n",
    "    for key, subdict in platforms.items():\n",
    "        for k,v in subdict.items():\n",
    "            if key in summary:\n",
    "                answer[key].update({k: round(v/summary[key]*100,2)})\n",
    "    # Сортируем\n",
    "    sorted_answer = {'Telegram':{}, 'Вконтакте':{}, 'Instagram':{}, 'Google': {}, 'Яндекс':{}}\n",
    "    for key, value in answer.items():\n",
    "        sorted_answer[key].update(dict(sorted(answer[key].items(), key=lambda item: item[1], reverse = True)))\n",
    "\n",
    "    # Записываем данные в нужном формате\n",
    "    with open('platform_city_results.txt', mode='w', newline='') as file:\n",
    "        writer = csv.writer(file)\n",
    "        for key, values in sorted_answer.items():\n",
    "            writer.writerow(''.join(f'Для группы {key}:').split(\",\") )\n",
    "            for k, v in values.items():\n",
    "                writer.writerow( ''.join(f'- Город: {k}, доля затрат на рекламу: {v}%').split(\",\"))"
   ]
  },
  {
   "cell_type": "markdown",
   "metadata": {
    "id": "QuO3ZwRI5mdH"
   },
   "source": [
    "### **Напишите функцию, которая возвращает средний бюджет всех кампаний, запущенных на определенной платформе**\n",
    "\n",
    "Функция `calculate_average_budget` должна принимать путь к файлу и название плафтормы и возвращать число - средний бюджет всех кампаний, запущенных на данной платформе, округленный до двух знаков после запятой."
   ]
  },
  {
   "cell_type": "code",
   "execution_count": null,
   "metadata": {
    "colab": {
     "base_uri": "https://localhost:8080/"
    },
    "id": "HxGWkaSp5kpo",
    "outputId": "53c07a02-ee00-4d7a-c080-988b8aa939b8"
   },
   "outputs": [
    {
     "data": {
      "text/plain": [
       "25123.22"
      ]
     },
     "execution_count": 23,
     "metadata": {},
     "output_type": "execute_result"
    }
   ],
   "source": [
    "def calculate_average_budget(path_to_file, platform_name):\n",
    "    with open (path_to_file, 'r', encoding='utf-8') as csv_test:\n",
    "        reader_csv = csv.reader(csv_test, delimiter=',')\n",
    "        file = list(reader_csv)\n",
    "        # Получаем список уникальных наименований платформ \n",
    "        seen = set()\n",
    "        unique_platforms =  [line[4] for line in file[1:] if line[4] not in seen and (seen.add(line[4]) or True)]\n",
    "        \n",
    "    # Формируем пустой словарь \n",
    "    platforms_result = { platform:{'бюджет':0,'кампании':0} for platform in unique_platforms}\n",
    "\n",
    "    # Заполняем словарь, вычисляем бюджет и количество рекламных кампаний на каджой платформе\n",
    "    for line in file:\n",
    "        if line[4] in platforms_result:\n",
    "            platforms_result[line[4]]['бюджет'] += int(line[5])\n",
    "            platforms_result[line[4]]['кампании'] += int(1)\n",
    "    \n",
    "    # Рассчитываем среднее значение бюджета для указанной платформы\n",
    "    for platform, amount in platforms_result.items():\n",
    "        if platform == platform_name:\n",
    "            res = platforms_result[platform]['бюджет']/platforms_result[platform]['кампании']\n",
    "\n",
    "    return round((res),2)\n",
    "\n",
    "\n",
    "calculate_average_budget('campaign_data.csv', 'Google')"
   ]
  },
  {
   "cell_type": "markdown",
   "metadata": {
    "id": "QxiawT4of4Xj"
   },
   "source": [
    "### **Напишите генератор, который будет генерировать даты, в которые НЕ запускались кампании**\n",
    "\n",
    "Функция `get_missing_campaign_dates` должна принимать путь к файлу и генерировать построчно даты, отсортированные по возрастанию, в которые не запускались кампании, в формате:\n",
    "\n",
    "```\n",
    "2022-02-29\n",
    "2022-03-28\n",
    "2022-03-29\n",
    "2022-05-30\n",
    "2022-06-13\n",
    "2022-06-27\n",
    "...\n",
    "```"
   ]
  },
  {
   "cell_type": "code",
   "execution_count": null,
   "metadata": {
    "colab": {
     "base_uri": "https://localhost:8080/"
    },
    "id": "urEWcCuk522y",
    "outputId": "95def232-ead0-4bc1-f9ec-88ec66c31a65"
   },
   "outputs": [
    {
     "data": {
      "text/plain": [
       "<generator object get_missing_campaign_dates at 0x79ef7fc050e0>"
      ]
     },
     "execution_count": 26,
     "metadata": {},
     "output_type": "execute_result"
    }
   ],
   "source": [
    "def get_missing_campaign_dates(path_to_file):\n",
    "    with open ('campaign_data.csv', 'r', encoding='utf-8') as csv_test:\n",
    "        reader_csv = csv.reader(csv_test, delimiter=',')\n",
    "        # Список уникальных дат, в которые запускались рекламные кампании\n",
    "        unique_dates = [line[1] for line in reader_csv]\n",
    "\n",
    "    # Приводим к объектам datetime\n",
    "    dates_to_date = {datetime.strptime(date, '%Y-%m-%d') for date in unique_dates[1:]}\n",
    "    date_start = min(dates_to_date) # Начальная дата \n",
    "    date_stop = max(dates_to_date) # Конечная дата \n",
    "    len_days = (date_stop - date_start).days # Длительность \n",
    "\n",
    "    # Генерируем словарь, как если бы кампании запускались каждый день\n",
    "    calendar = {date_start+ timedelta(days=i) for i in range(len_days+1)}\n",
    "    # Находим пропуски как разницу м/у мн-вом календарных и фактических дат\n",
    "    days_missed = sorted(list(calendar.difference(dates_to_date)), reverse = False)\n",
    "\n",
    "    yield from (date for date in days_missed)\n",
    "\n",
    "get_missing_campaign_dates('campaign_data.csv')"
   ]
  },
  {
   "cell_type": "markdown",
   "metadata": {
    "id": "6wxnUGpkhktX"
   },
   "source": [
    "### **Напишите функцию, которая будет принимать на вход путь к файлу и возвращать сгруппированные данные по городам, содержащие суммарный бюджет и количество кликов**\n",
    "\n",
    "Функция `group_campaign_data` должна возвращать список словарей, отсортированный по городам, в формате:\n",
    "\n",
    "```python\n",
    "[{'Город': 'Нижний Новгород',\n",
    "  'Количество кликов': 616.0,\n",
    "  'Суммарный бюджет': 27585},\n",
    " {'Город': 'Новосибирск',\n",
    "  'Количество кликов': 733.0,\n",
    "  'Суммарный бюджет': 33001},\n",
    "  ...]\n",
    "```"
   ]
  },
  {
   "cell_type": "code",
   "execution_count": 11,
   "metadata": {
    "colab": {
     "base_uri": "https://localhost:8080/"
    },
    "id": "hv7Nz3TN59Ds",
    "outputId": "508bf712-9c38-45f6-fa51-3597c2389636"
   },
   "outputs": [
    {
     "data": {
      "text/plain": [
       "[{'Город': 'Екатеринбург',\n",
       "  'Количество кликов': 82104.0,\n",
       "  'Суммарный бюджет': 3742631},\n",
       " {'Город': 'Казань',\n",
       "  'Количество кликов': 68353.0,\n",
       "  'Суммарный бюджет': 3138271},\n",
       " {'Город': 'Калуга',\n",
       "  'Количество кликов': 72801.0,\n",
       "  'Суммарный бюджет': 3434585},\n",
       " {'Город': 'Краснодар',\n",
       "  'Количество кликов': 63965.0,\n",
       "  'Суммарный бюджет': 3165896},\n",
       " {'Город': 'Москва',\n",
       "  'Количество кликов': 69939.0,\n",
       "  'Суммарный бюджет': 3003448},\n",
       " {'Город': 'Нижний Новгород',\n",
       "  'Количество кликов': 65416.0,\n",
       "  'Суммарный бюджет': 2730585},\n",
       " {'Город': 'Новосибирск',\n",
       "  'Количество кликов': 73303.0,\n",
       "  'Суммарный бюджет': 3363001},\n",
       " {'Город': 'Санкт-Петербург',\n",
       "  'Количество кликов': 66266.0,\n",
       "  'Суммарный бюджет': 3254148}]"
      ]
     },
     "execution_count": 11,
     "metadata": {},
     "output_type": "execute_result"
    }
   ],
   "source": [
    "def group_campaign_data(file):\n",
    "    with open ('campaign_data.csv', 'r', encoding='utf-8') as csv_test:\n",
    "        reader_csv = csv.reader(csv_test, delimiter=',')\n",
    "        file = list(reader_csv)\n",
    "    # Получаем список укникальных городов и формируем пустой словарь\n",
    "    seen = set()\n",
    "    unique_cities=  [line[6] for line in file if line[6] not in seen and (seen.add(line[6]) or True)]\n",
    "    cities = { city:{'Город':city,'Количество кликов':0, 'Суммарный бюджет':0} for city in unique_cities[1:]}\n",
    "\n",
    "    # Рассчитываем количество кликов и суммарный бюджет по каждому городу\n",
    "    for line in file:\n",
    "        if line[6] in cities:\n",
    "            cities[line[6]]['Количество кликов'] += float(line[8])\n",
    "            cities[line[6]]['Суммарный бюджет'] += int(line[5])\n",
    "    # Сортируем итоговый список по городам\n",
    "    res = [value for value in cities.values()]\n",
    "    res_sorted = sorted(res, key=lambda d: d['Город'])\n",
    "\n",
    "    return res_sorted\n",
    "\n",
    "group_campaign_data('campaign_data.csv')"
   ]
  },
  {
   "cell_type": "markdown",
   "metadata": {
    "id": "eF6DMWtfifY7"
   },
   "source": [
    "### **Напишите генератор, который будет генерировать данные о кампаниях, запущенных в указанном городе и имеющих бюджет выше заданного значения**\n",
    "\n",
    "Функция `campaign_generator` должна принимать путь к файлу, город и бюджет и генерировать словари, отсортированные по возрастанию 'ID Кампании' в формате:\n",
    "\n",
    "```\n",
    "{'ID Кампании': '657', 'Тип': 'Контекстная', 'Платформа': 'Вконтакте', 'Доход': '10692'}\n",
    "{'ID Кампании': '674', 'Тип': 'Нативная интеграция', 'Платформа': 'Яндекс', 'Доход': '20766'}\n",
    "{'ID Кампании': '761', 'Тип': 'Соцсети', 'Платформа': 'Вконтакте', 'Доход': '15680'}\n",
    "```"
   ]
  },
  {
   "cell_type": "code",
   "execution_count": null,
   "metadata": {
    "colab": {
     "base_uri": "https://localhost:8080/"
    },
    "id": "mUDYPPqx6RPr",
    "outputId": "97fb9508-2899-46e9-dc28-3b7933bfdd77"
   },
   "outputs": [
    {
     "data": {
      "text/plain": [
       "<generator object campaign_generator at 0x79ef8829a2a0>"
      ]
     },
     "execution_count": 30,
     "metadata": {},
     "output_type": "execute_result"
    }
   ],
   "source": [
    "def campaign_generator(file_name, city, amount):\n",
    "    with open (file_name, 'r', encoding='utf-8') as csv_test:\n",
    "        reader_csv = csv.DictReader(csv_test, delimiter=',')\n",
    "        file = list(reader_csv)\n",
    "\n",
    "    # Задаем список ключей и формируем словарь\n",
    "    key_words = ['ID Кампании', 'Тип кампании', 'Платформа', 'Доход', 'Город', 'Бюджет']\n",
    "    result_list = []\n",
    "    for item in file:\n",
    "        result_list.append({k:v for k,v in item.items() if k in key_words})\n",
    "\n",
    "    # Заполняем значения словаря\n",
    "    for dicts in result_list:\n",
    "        for keys in dicts:\n",
    "            if dicts[keys].isdigit():\n",
    "                dicts[keys] = int(dicts[keys])\n",
    "\n",
    "    # Сортируем по ID Кампании\n",
    "    result_list_sorted = sorted(result_list, key=lambda d: d['ID Кампании'])\n",
    "\n",
    "    # Фильтрация по городу и бюджету\n",
    "    result_list_filtered = []\n",
    "    for lst in result_list_sorted:\n",
    "        if lst['Бюджет'] > amount and lst['Город'] == city:\n",
    "            result_list_filtered.append({k:v for k,v in lst.items() if k in ('ID Кампании', 'Тип кампании', 'Платформа', 'Доход') })\n",
    "    # Меняем название поля\n",
    "    result_list_filtered_upd = []\n",
    "    for i in result_list_filtered:\n",
    "        result_list_filtered_upd.append({'Тип' if k == 'Тип кампании' else k: v for k, v in i.items()})\n",
    "\n",
    "    # Необходимо изменить тип данных с int на str\n",
    "    for dicts in result_list_filtered_upd:\n",
    "        for keys in dicts:\n",
    "            if isinstance(dicts[keys],int):\n",
    "                dicts[keys] = str(dicts[keys])\n",
    "\n",
    "\n",
    "    yield from (lst for lst in result_list_filtered_upd)\n",
    "\n",
    "\n",
    "campaign_generator('campaign_data.csv', 'Москва', 25000)"
   ]
  }
 ],
 "metadata": {
  "colab": {
   "provenance": []
  },
  "kernelspec": {
   "display_name": "Python 3",
   "language": "python",
   "name": "python3"
  },
  "language_info": {
   "codemirror_mode": {
    "name": "ipython",
    "version": 3
   },
   "file_extension": ".py",
   "mimetype": "text/x-python",
   "name": "python",
   "nbconvert_exporter": "python",
   "pygments_lexer": "ipython3",
   "version": "3.8.5"
  }
 },
 "nbformat": 4,
 "nbformat_minor": 1
}
