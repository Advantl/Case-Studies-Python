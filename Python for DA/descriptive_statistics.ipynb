{
 "cells": [
  {
   "cell_type": "markdown",
   "metadata": {},
   "source": [
    "## Постановка задачи"
   ]
  },
  {
   "cell_type": "markdown",
   "metadata": {},
   "source": [
    "Проанализировать данные о заработной плате в России в разрезе регионов, возрастов, уровня образования и профессий."
   ]
  },
  {
   "cell_type": "markdown",
   "metadata": {},
   "source": [
    "Данные: https://drive.google.com/file/d/1wXqWFZvd3rNeDIk-cPb4j4Ih-fjWT9iS/view?usp=drive_link"
   ]
  },
  {
   "cell_type": "code",
   "execution_count": 1,
   "metadata": {},
   "outputs": [],
   "source": [
    "import pandas as pd\n",
    "import numpy as np\n",
    "import matplotlib.pyplot as plt\n",
    "import seaborn as sns\n",
    "from scipy.stats import *\n",
    "from scipy import stats\n",
    "import statistics"
   ]
  },
  {
   "cell_type": "code",
   "execution_count": 2,
   "metadata": {},
   "outputs": [],
   "source": [
    "#plt.rcParams['figure.figsize'] = (8, 6)\n",
    "#plt.rcdefaults()"
   ]
  },
  {
   "cell_type": "code",
   "execution_count": 3,
   "metadata": {},
   "outputs": [
    {
     "data": {
      "text/html": [
       "<div>\n",
       "<style scoped>\n",
       "    .dataframe tbody tr th:only-of-type {\n",
       "        vertical-align: middle;\n",
       "    }\n",
       "\n",
       "    .dataframe tbody tr th {\n",
       "        vertical-align: top;\n",
       "    }\n",
       "\n",
       "    .dataframe thead th {\n",
       "        text-align: right;\n",
       "    }\n",
       "</style>\n",
       "<table border=\"1\" class=\"dataframe\">\n",
       "  <thead>\n",
       "    <tr style=\"text-align: right;\">\n",
       "      <th></th>\n",
       "      <th>Возраст</th>\n",
       "      <th>Пол</th>\n",
       "      <th>Уровень образования</th>\n",
       "      <th>Профессия</th>\n",
       "      <th>Опыт работы</th>\n",
       "      <th>Зарплата</th>\n",
       "      <th>Регион</th>\n",
       "    </tr>\n",
       "  </thead>\n",
       "  <tbody>\n",
       "    <tr>\n",
       "      <th>0</th>\n",
       "      <td>45.0</td>\n",
       "      <td>мужской</td>\n",
       "      <td>среднее общее</td>\n",
       "      <td>Инженер</td>\n",
       "      <td>15</td>\n",
       "      <td>81882.0</td>\n",
       "      <td>Челябинск</td>\n",
       "    </tr>\n",
       "    <tr>\n",
       "      <th>1</th>\n",
       "      <td>57.0</td>\n",
       "      <td>мужской</td>\n",
       "      <td>среднее общее</td>\n",
       "      <td>NaN</td>\n",
       "      <td>18</td>\n",
       "      <td>29276.0</td>\n",
       "      <td>Новосибирск</td>\n",
       "    </tr>\n",
       "    <tr>\n",
       "      <th>2</th>\n",
       "      <td>22.0</td>\n",
       "      <td>женский</td>\n",
       "      <td>NaN</td>\n",
       "      <td>Дизайнер интерфейсов</td>\n",
       "      <td>38</td>\n",
       "      <td>96405.0</td>\n",
       "      <td>Москва</td>\n",
       "    </tr>\n",
       "    <tr>\n",
       "      <th>3</th>\n",
       "      <td>38.0</td>\n",
       "      <td>мужской</td>\n",
       "      <td>NaN</td>\n",
       "      <td>Инженер-программист</td>\n",
       "      <td>36</td>\n",
       "      <td>59095.0</td>\n",
       "      <td>Санкт-Петербург</td>\n",
       "    </tr>\n",
       "    <tr>\n",
       "      <th>4</th>\n",
       "      <td>19.0</td>\n",
       "      <td>мужской</td>\n",
       "      <td>среднее профессиональное</td>\n",
       "      <td>Дизайнер интерфейсов</td>\n",
       "      <td>36</td>\n",
       "      <td>46455.0</td>\n",
       "      <td>Санкт-Петербург</td>\n",
       "    </tr>\n",
       "  </tbody>\n",
       "</table>\n",
       "</div>"
      ],
      "text/plain": [
       "   Возраст      Пол       Уровень образования             Профессия  \\\n",
       "0     45.0  мужской             среднее общее               Инженер   \n",
       "1     57.0  мужской             среднее общее                   NaN   \n",
       "2     22.0  женский                       NaN  Дизайнер интерфейсов   \n",
       "3     38.0  мужской                       NaN   Инженер-программист   \n",
       "4     19.0  мужской  среднее профессиональное  Дизайнер интерфейсов   \n",
       "\n",
       "   Опыт работы  Зарплата           Регион  \n",
       "0           15   81882.0        Челябинск  \n",
       "1           18   29276.0      Новосибирск  \n",
       "2           38   96405.0           Москва  \n",
       "3           36   59095.0  Санкт-Петербург  \n",
       "4           36   46455.0  Санкт-Петербург  "
      ]
     },
     "execution_count": 3,
     "metadata": {},
     "output_type": "execute_result"
    }
   ],
   "source": [
    "df = pd.read_csv('Salary.csv')\n",
    "df.head(5)"
   ]
  },
  {
   "cell_type": "markdown",
   "metadata": {},
   "source": [
    "***1. Укажите размер считанной таблицы***"
   ]
  },
  {
   "cell_type": "code",
   "execution_count": 4,
   "metadata": {},
   "outputs": [
    {
     "name": "stdout",
     "output_type": "stream",
     "text": [
      "Размер считанной таблицы:\n",
      "строк: 10000\n",
      "столбцов: 7\n"
     ]
    }
   ],
   "source": [
    "print(f'Размер считанной таблицы:\\nстрок: {df.shape[0]}\\nстолбцов: {df.shape[1]}')"
   ]
  },
  {
   "cell_type": "markdown",
   "metadata": {},
   "source": [
    "***2. В каких столбцах присутствуют пустые значения?***"
   ]
  },
  {
   "cell_type": "code",
   "execution_count": 5,
   "metadata": {},
   "outputs": [
    {
     "data": {
      "text/plain": [
       "Возраст                 35\n",
       "Пол                      0\n",
       "Уровень образования    978\n",
       "Профессия              519\n",
       "Опыт работы              0\n",
       "Зарплата                 0\n",
       "Регион                 465\n",
       "dtype: int64"
      ]
     },
     "execution_count": 5,
     "metadata": {},
     "output_type": "execute_result"
    }
   ],
   "source": [
    "na_counts = df.isna().sum()\n",
    "na_counts"
   ]
  },
  {
   "cell_type": "code",
   "execution_count": 6,
   "metadata": {},
   "outputs": [
    {
     "name": "stdout",
     "output_type": "stream",
     "text": [
      "Пустые значения присутствуют в столбцах: Возраст, Уровень образования, Профессия, Регион\n"
     ]
    }
   ],
   "source": [
    "columns_with_na = na_counts[na_counts > 0].index.tolist()\n",
    "print(f'Пустые значения присутствуют в столбцах:', \", \".join(columns_with_na)) "
   ]
  },
  {
   "cell_type": "markdown",
   "metadata": {},
   "source": [
    "***3. Сколько строк после удаления значений NAN осталось? Все последующие вопросы будут про выборку, в которой удалены все строки с NaN.***"
   ]
  },
  {
   "cell_type": "code",
   "execution_count": 7,
   "metadata": {},
   "outputs": [
    {
     "data": {
      "text/plain": [
       "(8122, 7)"
      ]
     },
     "execution_count": 7,
     "metadata": {},
     "output_type": "execute_result"
    }
   ],
   "source": [
    "df = df.dropna()\n",
    "df.shape"
   ]
  },
  {
   "cell_type": "code",
   "execution_count": 8,
   "metadata": {},
   "outputs": [
    {
     "name": "stdout",
     "output_type": "stream",
     "text": [
      "После удаления значений NAN осталось строк: 8122\n"
     ]
    }
   ],
   "source": [
    "print(f'После удаления значений NAN осталось строк: {df.shape[0]}')"
   ]
  },
  {
   "cell_type": "markdown",
   "metadata": {},
   "source": [
    "***4. Проанализируйте качественный признак \"Пол\". Какую долю в выборке составляют женщины?***"
   ]
  },
  {
   "cell_type": "code",
   "execution_count": 9,
   "metadata": {},
   "outputs": [
    {
     "data": {
      "image/png": "[encoded data removed]",
      "text/plain": [
       "<Figure size 576x360 with 1 Axes>"
      ]
     },
     "metadata": {},
     "output_type": "display_data"
    }
   ],
   "source": [
    "df_pie = df['Пол'].value_counts().reset_index()\n",
    "df_pie.columns = ['Пол', 'Количество']\n",
    "\n",
    "color = ['silver', 'steelblue']\n",
    "b = (0.01, 0.01)\n",
    "textprops = {'fontsize': 14}\n",
    "\n",
    "fig, ax = plt.subplots(figsize=(8, 5))  \n",
    "ax.pie(df_pie['Количество'], labels=['Женщины', 'Мужчины'], autopct='%.2f', \\\n",
    "        colors=color, explode=b, textprops=textprops, startangle=45);\n",
    "plt.show()"
   ]
  },
  {
   "cell_type": "code",
   "execution_count": 10,
   "metadata": {},
   "outputs": [
    {
     "data": {
      "text/plain": [
       "женский    0.5032\n",
       "мужской    0.4968\n",
       "Name: Пол, dtype: float64"
      ]
     },
     "execution_count": 10,
     "metadata": {},
     "output_type": "execute_result"
    }
   ],
   "source": [
    "df.Пол.value_counts(normalize=True).round(4)"
   ]
  },
  {
   "cell_type": "code",
   "execution_count": 11,
   "metadata": {},
   "outputs": [
    {
     "name": "stdout",
     "output_type": "stream",
     "text": [
      "Женщины в выборке составляют долю в размере 0.503.\n"
     ]
    }
   ],
   "source": [
    "print(f'Женщины в выборке составляют долю в размере {df.Пол.value_counts(normalize=True).round(3)[0]}.')"
   ]
  },
  {
   "cell_type": "markdown",
   "metadata": {},
   "source": [
    "***5. Проанализируйте качественный признак \"Регион\". Можно ли считать данные однородными по этому признаку? Какой город встречается в выборке реже других?***"
   ]
  },
  {
   "cell_type": "code",
   "execution_count": 12,
   "metadata": {},
   "outputs": [
    {
     "data": {
      "text/plain": [
       "Москва             2331\n",
       "Санкт-Петербург    1526\n",
       "Нижний Новгород     780\n",
       "Новосибирск         778\n",
       "Екатеринбург        772\n",
       "Казань              768\n",
       "Челябинск           764\n",
       "Омск                403\n",
       "Name: Регион, dtype: int64"
      ]
     },
     "execution_count": 12,
     "metadata": {},
     "output_type": "execute_result"
    }
   ],
   "source": [
    "df.Регион.value_counts()"
   ]
  },
  {
   "cell_type": "code",
   "execution_count": 13,
   "metadata": {},
   "outputs": [],
   "source": [
    "df_region = df.groupby('Регион').agg(cnt=('Регион', 'count')).reset_index()\n",
    "df_region = df_region.sort_values('cnt', ascending = False)\n",
    "lst = df_region['Регион'].tolist()"
   ]
  },
  {
   "cell_type": "code",
   "execution_count": 14,
   "metadata": {},
   "outputs": [
    {
     "data": {
      "image/png": "[encoded data removed]",
      "text/plain": [
       "<Figure size 576x360 with 1 Axes>"
      ]
     },
     "metadata": {
      "needs_background": "light"
     },
     "output_type": "display_data"
    }
   ],
   "source": [
    "plt.figure(figsize=(8, 5))\n",
    "sns.countplot(data = df, y = 'Регион', order = lst, palette='Blues_d');\n",
    "plt.title('РАСПРЕДЕЛЕНИЕ ПРИЗНАКА \"РЕГИОН\"', fontweight='bold', pad=10);\n",
    "plt.xlabel('КОЛИЧЕСТВО', fontstyle='italic', labelpad=10);\n",
    "plt.ylabel('РЕГИОНЫ', fontstyle = 'italic', labelpad=10);"
   ]
  },
  {
   "cell_type": "code",
   "execution_count": 15,
   "metadata": {},
   "outputs": [
    {
     "name": "stdout",
     "output_type": "stream",
     "text": [
      "По признаку \"Регион\" данные нельзя считать однородными.        \n",
      "Реже других в выборке встречается город Омск.\n"
     ]
    }
   ],
   "source": [
    "print(f'По признаку \"Регион\" данные нельзя считать однородными.\\\n",
    "        \\nРеже других в выборке встречается город {df.Регион.value_counts().idxmin()}.')"
   ]
  },
  {
   "cell_type": "markdown",
   "metadata": {},
   "source": [
    "***6. Есть ли выбросы у признака \"Возраст\"? Чему примерно равен межквартильный размах?***"
   ]
  },
  {
   "cell_type": "code",
   "execution_count": 16,
   "metadata": {},
   "outputs": [],
   "source": [
    "seventy_fifth = df['Возраст'].quantile(0.75)\n",
    "twenty_fifth = df['Возраст'].quantile(0.25)\n",
    "IQR = seventy_fifth - twenty_fifth"
   ]
  },
  {
   "cell_type": "code",
   "execution_count": 17,
   "metadata": {},
   "outputs": [
    {
     "data": {
      "text/plain": [
       "16.0"
      ]
     },
     "execution_count": 17,
     "metadata": {},
     "output_type": "execute_result"
    }
   ],
   "source": [
    "IQR"
   ]
  },
  {
   "cell_type": "code",
   "execution_count": 18,
   "metadata": {},
   "outputs": [
    {
     "data": {
      "image/png": "[encoded data removed]",
      "text/plain": [
       "<Figure size 576x360 with 1 Axes>"
      ]
     },
     "metadata": {
      "needs_background": "light"
     },
     "output_type": "display_data"
    }
   ],
   "source": [
    "plt.figure(figsize=(8, 5))\n",
    "sns.boxplot(x=\"Возраст\", data=df, palette='muted');\n",
    "plt.title('РАСПРЕДЕЛЕНИЕ ПРИЗНАКА \"ВОЗРАСТ\"', fontweight='bold', pad=10);\n",
    "plt.xlabel('ГОДЫ', fontstyle='italic', labelpad=10);"
   ]
  },
  {
   "cell_type": "markdown",
   "metadata": {},
   "source": [
    "Значения, выходящие за пределы outliers_upper считаются выбросами"
   ]
  },
  {
   "cell_type": "code",
   "execution_count": 19,
   "metadata": {},
   "outputs": [
    {
     "data": {
      "text/plain": [
       "69.0"
      ]
     },
     "execution_count": 19,
     "metadata": {},
     "output_type": "execute_result"
    }
   ],
   "source": [
    "outliers_upper = seventy_fifth + 1.5*IQR \n",
    "outliers_upper"
   ]
  },
  {
   "cell_type": "markdown",
   "metadata": {},
   "source": [
    "И включают в себя следующие возраста:"
   ]
  },
  {
   "cell_type": "code",
   "execution_count": 20,
   "metadata": {},
   "outputs": [
    {
     "data": {
      "text/plain": [
       "array([70., 71., 72., 73., 74., 75., 76., 77., 78., 81., 85.])"
      ]
     },
     "execution_count": 20,
     "metadata": {},
     "output_type": "execute_result"
    }
   ],
   "source": [
    "data_to_check = df[df['Возраст'] > outliers_upper]\n",
    "data_to_check['Возраст'].sort_values().unique()"
   ]
  },
  {
   "cell_type": "code",
   "execution_count": 21,
   "metadata": {},
   "outputs": [
    {
     "name": "stdout",
     "output_type": "stream",
     "text": [
      "У признака \"Возраст\" присутствуют выбросы.\n",
      "Межквартильный размах равен 16.0\n"
     ]
    }
   ],
   "source": [
    "print(f'У признака \"Возраст\" присутствуют выбросы.\\\n",
    "\\nМежквартильный размах равен {IQR}')"
   ]
  },
  {
   "cell_type": "markdown",
   "metadata": {},
   "source": [
    "***7. Какой уровень образования представлен в выборке в наибольшем количестве?***"
   ]
  },
  {
   "cell_type": "code",
   "execution_count": 22,
   "metadata": {},
   "outputs": [
    {
     "data": {
      "text/plain": [
       "бакалавр                    2688\n",
       "среднее общее               1889\n",
       "магистр                     1750\n",
       "среднее профессиональное     898\n",
       "доктор наук                  897\n",
       "Name: Уровень образования, dtype: int64"
      ]
     },
     "execution_count": 22,
     "metadata": {},
     "output_type": "execute_result"
    }
   ],
   "source": [
    " df['Уровень образования'].value_counts() "
   ]
  },
  {
   "cell_type": "code",
   "execution_count": 23,
   "metadata": {},
   "outputs": [],
   "source": [
    "df_education = df.groupby('Уровень образования').agg(cnt=('Уровень образования', 'count')).reset_index()\n",
    "df_education = df_education.sort_values('cnt', ascending = False)\n",
    "lst_education = df_education['Уровень образования'].tolist()"
   ]
  },
  {
   "cell_type": "code",
   "execution_count": 24,
   "metadata": {},
   "outputs": [
    {
     "data": {
      "image/png": "[encoded data removed]",
      "text/plain": [
       "<Figure size 576x360 with 1 Axes>"
      ]
     },
     "metadata": {
      "needs_background": "light"
     },
     "output_type": "display_data"
    }
   ],
   "source": [
    "plt.figure(figsize=(8, 5))\n",
    "sns.countplot(data = df, y = 'Уровень образования', order = lst_education, palette='Blues_d');\n",
    "plt.title('РАСПРЕДЕЛЕНИЕ ПРИЗНАКА \"УРОВЕНЬ ОБРАЗОВАНИЯ\"', fontweight='bold', pad=10);\n",
    "plt.xlabel('КОЛИЧЕСТВО', fontstyle='italic', labelpad=10);\n",
    "plt.ylabel('УРОВНИ ОБРАЗОВАНИЯ', fontstyle = 'italic', labelpad=10);"
   ]
  },
  {
   "cell_type": "code",
   "execution_count": 25,
   "metadata": {},
   "outputs": [
    {
     "name": "stdout",
     "output_type": "stream",
     "text": [
      "В наибольшем количестве в выборке представлен уровень образования: бакалавр.\n"
     ]
    }
   ],
   "source": [
    "print(f\"В наибольшем количестве в выборке представлен уровень образования: \\\n",
    "{df['Уровень образования'].value_counts().idxmax()}.\")"
   ]
  },
  {
   "cell_type": "markdown",
   "metadata": {},
   "source": [
    "***8. Как распределены профессии в выборке?***"
   ]
  },
  {
   "cell_type": "code",
   "execution_count": 26,
   "metadata": {},
   "outputs": [
    {
     "data": {
      "text/html": [
       "<div>\n",
       "<style scoped>\n",
       "    .dataframe tbody tr th:only-of-type {\n",
       "        vertical-align: middle;\n",
       "    }\n",
       "\n",
       "    .dataframe tbody tr th {\n",
       "        vertical-align: top;\n",
       "    }\n",
       "\n",
       "    .dataframe thead th {\n",
       "        text-align: right;\n",
       "    }\n",
       "</style>\n",
       "<table border=\"1\" class=\"dataframe\">\n",
       "  <thead>\n",
       "    <tr style=\"text-align: right;\">\n",
       "      <th></th>\n",
       "      <th>Профессия</th>\n",
       "      <th>Количество</th>\n",
       "    </tr>\n",
       "  </thead>\n",
       "  <tbody>\n",
       "    <tr>\n",
       "      <th>0</th>\n",
       "      <td>Девопс инженер</td>\n",
       "      <td>469</td>\n",
       "    </tr>\n",
       "    <tr>\n",
       "      <th>1</th>\n",
       "      <td>Инженер-программист</td>\n",
       "      <td>465</td>\n",
       "    </tr>\n",
       "    <tr>\n",
       "      <th>2</th>\n",
       "      <td>Строитель</td>\n",
       "      <td>463</td>\n",
       "    </tr>\n",
       "    <tr>\n",
       "      <th>3</th>\n",
       "      <td>Продуктовый менеджер</td>\n",
       "      <td>459</td>\n",
       "    </tr>\n",
       "    <tr>\n",
       "      <th>4</th>\n",
       "      <td>Актер</td>\n",
       "      <td>456</td>\n",
       "    </tr>\n",
       "    <tr>\n",
       "      <th>5</th>\n",
       "      <td>Бухгалтер</td>\n",
       "      <td>438</td>\n",
       "    </tr>\n",
       "    <tr>\n",
       "      <th>6</th>\n",
       "      <td>UX-дизайнер</td>\n",
       "      <td>435</td>\n",
       "    </tr>\n",
       "    <tr>\n",
       "      <th>7</th>\n",
       "      <td>Диджитал-маркетолог</td>\n",
       "      <td>431</td>\n",
       "    </tr>\n",
       "    <tr>\n",
       "      <th>8</th>\n",
       "      <td>Финансовый аналитик</td>\n",
       "      <td>429</td>\n",
       "    </tr>\n",
       "    <tr>\n",
       "      <th>9</th>\n",
       "      <td>Врач</td>\n",
       "      <td>426</td>\n",
       "    </tr>\n",
       "    <tr>\n",
       "      <th>10</th>\n",
       "      <td>Дизайнер интерфейсов</td>\n",
       "      <td>425</td>\n",
       "    </tr>\n",
       "    <tr>\n",
       "      <th>11</th>\n",
       "      <td>Инженер</td>\n",
       "      <td>417</td>\n",
       "    </tr>\n",
       "    <tr>\n",
       "      <th>12</th>\n",
       "      <td>Учитель</td>\n",
       "      <td>412</td>\n",
       "    </tr>\n",
       "    <tr>\n",
       "      <th>13</th>\n",
       "      <td>Водитель</td>\n",
       "      <td>409</td>\n",
       "    </tr>\n",
       "    <tr>\n",
       "      <th>14</th>\n",
       "      <td>Программист</td>\n",
       "      <td>407</td>\n",
       "    </tr>\n",
       "    <tr>\n",
       "      <th>15</th>\n",
       "      <td>Бизнес-аналитик</td>\n",
       "      <td>399</td>\n",
       "    </tr>\n",
       "    <tr>\n",
       "      <th>16</th>\n",
       "      <td>Маркетолог</td>\n",
       "      <td>399</td>\n",
       "    </tr>\n",
       "    <tr>\n",
       "      <th>17</th>\n",
       "      <td>Аналитик больших данных</td>\n",
       "      <td>392</td>\n",
       "    </tr>\n",
       "    <tr>\n",
       "      <th>18</th>\n",
       "      <td>Системный администратор</td>\n",
       "      <td>391</td>\n",
       "    </tr>\n",
       "  </tbody>\n",
       "</table>\n",
       "</div>"
      ],
      "text/plain": [
       "                  Профессия  Количество\n",
       "0            Девопс инженер         469\n",
       "1       Инженер-программист         465\n",
       "2                 Строитель         463\n",
       "3      Продуктовый менеджер         459\n",
       "4                     Актер         456\n",
       "5                 Бухгалтер         438\n",
       "6               UX-дизайнер         435\n",
       "7       Диджитал-маркетолог         431\n",
       "8       Финансовый аналитик         429\n",
       "9                      Врач         426\n",
       "10     Дизайнер интерфейсов         425\n",
       "11                  Инженер         417\n",
       "12                  Учитель         412\n",
       "13                 Водитель         409\n",
       "14              Программист         407\n",
       "15          Бизнес-аналитик         399\n",
       "16               Маркетолог         399\n",
       "17  Аналитик больших данных         392\n",
       "18  Системный администратор         391"
      ]
     },
     "execution_count": 26,
     "metadata": {},
     "output_type": "execute_result"
    }
   ],
   "source": [
    "df_profession = df['Профессия'].value_counts().reset_index()\n",
    "df_profession.columns = ['Профессия', 'Количество']\n",
    "df_profession"
   ]
  },
  {
   "cell_type": "code",
   "execution_count": 27,
   "metadata": {},
   "outputs": [
    {
     "data": {
      "image/png": "[encoded data removed]",
      "text/plain": [
       "<Figure size 576x360 with 1 Axes>"
      ]
     },
     "metadata": {
      "needs_background": "light"
     },
     "output_type": "display_data"
    }
   ],
   "source": [
    "custom_palette = [(0.21341022683583238, 0.48161476355247984, 0.6738280148660771)]\n",
    "profession_counts_sorted  = df['Профессия'].value_counts().sort_values(ascending=True)\n",
    "\n",
    "fig, ax = plt.subplots(figsize=(8, 5)) \n",
    "profession_counts_sorted.plot(kind='bar', color=custom_palette)\n",
    "ax.set_title('РАСПРЕДЕЛЕНИЕ ПРИЗНАКА \"ПРОФЕССИЯ\"', fontweight='bold', pad=10)\n",
    "ax.set_xlabel('УРОВНИ ОБРАЗОВАНИЯ', fontstyle='italic', labelpad=10)\n",
    "ax.set_ylabel('КОЛИЧЕСТВО', fontstyle='italic', labelpad=10)\n",
    "plt.show();"
   ]
  },
  {
   "cell_type": "code",
   "execution_count": 28,
   "metadata": {},
   "outputs": [
    {
     "name": "stdout",
     "output_type": "stream",
     "text": [
      "Профессии в выборке распределены почти равномерно.\n"
     ]
    }
   ],
   "source": [
    "print('Профессии в выборке распределены почти равномерно.')"
   ]
  },
  {
   "cell_type": "markdown",
   "metadata": {},
   "source": [
    "***9. Постройте плотность распределения для \"Зарплаты\". На каком промежутке виден самый большой пик?***"
   ]
  },
  {
   "cell_type": "markdown",
   "metadata": {},
   "source": [
    "- то 20 до 40 тысяч  \n",
    "- от 45 до 65 тысяч - ВЕРНО  \n",
    "- от 90 до 115 тысяч  \n",
    "- от 160 до 200 тысяч  "
   ]
  },
  {
   "cell_type": "code",
   "execution_count": 29,
   "metadata": {},
   "outputs": [
    {
     "data": {
      "image/png": "[encoded data removed]",
      "text/plain": [
       "<Figure size 576x360 with 1 Axes>"
      ]
     },
     "metadata": {
      "needs_background": "light"
     },
     "output_type": "display_data"
    }
   ],
   "source": [
    "fig, ax = plt.subplots(figsize=(8, 5)) \n",
    "df['Зарплата'].plot(kind='density')\n",
    "plt.xlabel('Зарплата')\n",
    "plt.ylabel('Плотность')\n",
    "plt.minorticks_on()\n",
    "plt.grid(which='major', linestyle='-', linewidth='0.5', color='black')\n",
    "plt.grid(which='minor', linestyle=':', linewidth='0.5', color='gray')\n",
    "plt.show();"
   ]
  },
  {
   "cell_type": "markdown",
   "metadata": {},
   "source": [
    "***10. Какие суждения для основных статистических характеристик переменной \"Зарплата\" верные?***"
   ]
  },
  {
   "cell_type": "markdown",
   "metadata": {},
   "source": [
    "- Среднее и медиана почти совпадают? - ВЕРНО"
   ]
  },
  {
   "cell_type": "code",
   "execution_count": 30,
   "metadata": {},
   "outputs": [
    {
     "data": {
      "text/plain": [
       "62996.16"
      ]
     },
     "execution_count": 30,
     "metadata": {},
     "output_type": "execute_result"
    }
   ],
   "source": [
    "avg = np.mean(df['Зарплата'])\n",
    "round(avg,2)"
   ]
  },
  {
   "cell_type": "code",
   "execution_count": 31,
   "metadata": {},
   "outputs": [
    {
     "data": {
      "text/plain": [
       "61778.0"
      ]
     },
     "execution_count": 31,
     "metadata": {},
     "output_type": "execute_result"
    }
   ],
   "source": [
    "median = np.median(df['Зарплата'])\n",
    "round(median,2)"
   ]
  },
  {
   "cell_type": "markdown",
   "metadata": {},
   "source": [
    "- Минимальная зп больше прожиточного минимума. - НЕ ВЕРНО"
   ]
  },
  {
   "cell_type": "markdown",
   "metadata": {},
   "source": [
    "Прожиточный минимум = 18 832 р."
   ]
  },
  {
   "cell_type": "code",
   "execution_count": 32,
   "metadata": {},
   "outputs": [
    {
     "data": {
      "text/plain": [
       "12038.0"
      ]
     },
     "execution_count": 32,
     "metadata": {},
     "output_type": "execute_result"
    }
   ],
   "source": [
    "df['Зарплата'].min()"
   ]
  },
  {
   "cell_type": "markdown",
   "metadata": {},
   "source": [
    "- Стандартное отклонение в 2 раза меньше среднего значения. - НЕ ВЕРНО"
   ]
  },
  {
   "cell_type": "code",
   "execution_count": 33,
   "metadata": {},
   "outputs": [
    {
     "name": "stdout",
     "output_type": "stream",
     "text": [
      "Стандартное отклонение: 25689.2\n",
      "Среднее значение: 62996.16\n"
     ]
    }
   ],
   "source": [
    "std = np.std(df['Зарплата'])\n",
    "mean = np.mean(df['Зарплата'])\n",
    "print(f'Стандартное отклонение: {round(std,2)}\\nСреднее значение: {round(mean,2)}')"
   ]
  },
  {
   "cell_type": "code",
   "execution_count": 34,
   "metadata": {},
   "outputs": [
    {
     "name": "stdout",
     "output_type": "stream",
     "text": [
      "Различие составляет: 2.45\n"
     ]
    }
   ],
   "source": [
    "print(f\"Различие составляет: {round(np.mean(df['Зарплата']) / np.std(df['Зарплата']),2)}\")"
   ]
  },
  {
   "cell_type": "markdown",
   "metadata": {},
   "source": [
    "- Почти 75% людей получают меньше 80 т.р. - ВЕРНО"
   ]
  },
  {
   "cell_type": "code",
   "execution_count": 35,
   "metadata": {},
   "outputs": [
    {
     "name": "stdout",
     "output_type": "stream",
     "text": [
      "Менее 80 000р. получают 74.0% опрошенных людей.\n"
     ]
    }
   ],
   "source": [
    "print(f\"Менее 80 000р. получают {stats.percentileofscore(df['Зарплата'], 80000).round()}% опрошенных людей.\")"
   ]
  },
  {
   "cell_type": "markdown",
   "metadata": {},
   "source": [
    "- В данных нет выбросов. - НЕ ВЕРНО"
   ]
  },
  {
   "cell_type": "code",
   "execution_count": 36,
   "metadata": {},
   "outputs": [
    {
     "data": {
      "image/png": "[encoded data removed]",
      "text/plain": [
       "<Figure size 576x360 with 1 Axes>"
      ]
     },
     "metadata": {
      "needs_background": "light"
     },
     "output_type": "display_data"
    }
   ],
   "source": [
    "fig, ax = plt.subplots(figsize=(8, 5)) \n",
    "plt.boxplot(df['Зарплата'], vert=False)\n",
    "plt.show()"
   ]
  },
  {
   "cell_type": "markdown",
   "metadata": {},
   "source": [
    "- Распределение равномерное. - НЕ ВЕРНО, см. вопрос 9 график."
   ]
  },
  {
   "cell_type": "markdown",
   "metadata": {},
   "source": [
    "***11. Сравните описательные характеристики для заработной платы с разбивкой по городам. Какие выводы можно сделать?***"
   ]
  },
  {
   "cell_type": "markdown",
   "metadata": {},
   "source": [
    "- Самая маленькая зарплата в Челябинске. - НЕ ВЕРНО"
   ]
  },
  {
   "cell_type": "code",
   "execution_count": 37,
   "metadata": {},
   "outputs": [
    {
     "data": {
      "text/html": [
       "<div>\n",
       "<style scoped>\n",
       "    .dataframe tbody tr th:only-of-type {\n",
       "        vertical-align: middle;\n",
       "    }\n",
       "\n",
       "    .dataframe tbody tr th {\n",
       "        vertical-align: top;\n",
       "    }\n",
       "\n",
       "    .dataframe thead th {\n",
       "        text-align: right;\n",
       "    }\n",
       "</style>\n",
       "<table border=\"1\" class=\"dataframe\">\n",
       "  <thead>\n",
       "    <tr style=\"text-align: right;\">\n",
       "      <th></th>\n",
       "      <th>Регион</th>\n",
       "      <th>mean</th>\n",
       "      <th>median</th>\n",
       "      <th>min</th>\n",
       "      <th>max</th>\n",
       "    </tr>\n",
       "  </thead>\n",
       "  <tbody>\n",
       "    <tr>\n",
       "      <th>4</th>\n",
       "      <td>Новосибирск</td>\n",
       "      <td>63805.0</td>\n",
       "      <td>63636.0</td>\n",
       "      <td>12038.0</td>\n",
       "      <td>141966.0</td>\n",
       "    </tr>\n",
       "    <tr>\n",
       "      <th>2</th>\n",
       "      <td>Москва</td>\n",
       "      <td>62625.0</td>\n",
       "      <td>61446.0</td>\n",
       "      <td>12317.0</td>\n",
       "      <td>154777.0</td>\n",
       "    </tr>\n",
       "    <tr>\n",
       "      <th>3</th>\n",
       "      <td>Нижний Новгород</td>\n",
       "      <td>62047.0</td>\n",
       "      <td>60389.0</td>\n",
       "      <td>12333.0</td>\n",
       "      <td>150686.0</td>\n",
       "    </tr>\n",
       "    <tr>\n",
       "      <th>1</th>\n",
       "      <td>Казань</td>\n",
       "      <td>62778.0</td>\n",
       "      <td>62138.0</td>\n",
       "      <td>12425.0</td>\n",
       "      <td>155021.0</td>\n",
       "    </tr>\n",
       "    <tr>\n",
       "      <th>6</th>\n",
       "      <td>Санкт-Петербург</td>\n",
       "      <td>63268.0</td>\n",
       "      <td>61452.0</td>\n",
       "      <td>12656.0</td>\n",
       "      <td>151561.0</td>\n",
       "    </tr>\n",
       "    <tr>\n",
       "      <th>0</th>\n",
       "      <td>Екатеринбург</td>\n",
       "      <td>63551.0</td>\n",
       "      <td>63752.0</td>\n",
       "      <td>12808.0</td>\n",
       "      <td>146681.0</td>\n",
       "    </tr>\n",
       "    <tr>\n",
       "      <th>7</th>\n",
       "      <td>Челябинск</td>\n",
       "      <td>62150.0</td>\n",
       "      <td>61612.0</td>\n",
       "      <td>13591.0</td>\n",
       "      <td>149885.0</td>\n",
       "    </tr>\n",
       "    <tr>\n",
       "      <th>5</th>\n",
       "      <td>Омск</td>\n",
       "      <td>65346.0</td>\n",
       "      <td>62312.0</td>\n",
       "      <td>14764.0</td>\n",
       "      <td>153243.0</td>\n",
       "    </tr>\n",
       "  </tbody>\n",
       "</table>\n",
       "</div>"
      ],
      "text/plain": [
       "            Регион     mean   median      min       max\n",
       "4      Новосибирск  63805.0  63636.0  12038.0  141966.0\n",
       "2           Москва  62625.0  61446.0  12317.0  154777.0\n",
       "3  Нижний Новгород  62047.0  60389.0  12333.0  150686.0\n",
       "1           Казань  62778.0  62138.0  12425.0  155021.0\n",
       "6  Санкт-Петербург  63268.0  61452.0  12656.0  151561.0\n",
       "0     Екатеринбург  63551.0  63752.0  12808.0  146681.0\n",
       "7        Челябинск  62150.0  61612.0  13591.0  149885.0\n",
       "5             Омск  65346.0  62312.0  14764.0  153243.0"
      ]
     },
     "execution_count": 37,
     "metadata": {},
     "output_type": "execute_result"
    }
   ],
   "source": [
    "df.groupby('Регион')['Зарплата'].agg([np.mean, np.median, min, max]).reset_index().sort_values('min').round()"
   ]
  },
  {
   "cell_type": "markdown",
   "metadata": {},
   "source": [
    "- Максимальная средняя зарплата в Омске. - ВЕРНО"
   ]
  },
  {
   "cell_type": "code",
   "execution_count": 38,
   "metadata": {},
   "outputs": [
    {
     "data": {
      "text/html": [
       "<div>\n",
       "<style scoped>\n",
       "    .dataframe tbody tr th:only-of-type {\n",
       "        vertical-align: middle;\n",
       "    }\n",
       "\n",
       "    .dataframe tbody tr th {\n",
       "        vertical-align: top;\n",
       "    }\n",
       "\n",
       "    .dataframe thead th {\n",
       "        text-align: right;\n",
       "    }\n",
       "</style>\n",
       "<table border=\"1\" class=\"dataframe\">\n",
       "  <thead>\n",
       "    <tr style=\"text-align: right;\">\n",
       "      <th></th>\n",
       "      <th>Регион</th>\n",
       "      <th>mean</th>\n",
       "      <th>median</th>\n",
       "      <th>min</th>\n",
       "      <th>max</th>\n",
       "    </tr>\n",
       "  </thead>\n",
       "  <tbody>\n",
       "    <tr>\n",
       "      <th>5</th>\n",
       "      <td>Омск</td>\n",
       "      <td>65346.0</td>\n",
       "      <td>62312.0</td>\n",
       "      <td>14764.0</td>\n",
       "      <td>153243.0</td>\n",
       "    </tr>\n",
       "    <tr>\n",
       "      <th>4</th>\n",
       "      <td>Новосибирск</td>\n",
       "      <td>63805.0</td>\n",
       "      <td>63636.0</td>\n",
       "      <td>12038.0</td>\n",
       "      <td>141966.0</td>\n",
       "    </tr>\n",
       "    <tr>\n",
       "      <th>0</th>\n",
       "      <td>Екатеринбург</td>\n",
       "      <td>63551.0</td>\n",
       "      <td>63752.0</td>\n",
       "      <td>12808.0</td>\n",
       "      <td>146681.0</td>\n",
       "    </tr>\n",
       "    <tr>\n",
       "      <th>6</th>\n",
       "      <td>Санкт-Петербург</td>\n",
       "      <td>63268.0</td>\n",
       "      <td>61452.0</td>\n",
       "      <td>12656.0</td>\n",
       "      <td>151561.0</td>\n",
       "    </tr>\n",
       "    <tr>\n",
       "      <th>1</th>\n",
       "      <td>Казань</td>\n",
       "      <td>62778.0</td>\n",
       "      <td>62138.0</td>\n",
       "      <td>12425.0</td>\n",
       "      <td>155021.0</td>\n",
       "    </tr>\n",
       "    <tr>\n",
       "      <th>2</th>\n",
       "      <td>Москва</td>\n",
       "      <td>62625.0</td>\n",
       "      <td>61446.0</td>\n",
       "      <td>12317.0</td>\n",
       "      <td>154777.0</td>\n",
       "    </tr>\n",
       "    <tr>\n",
       "      <th>7</th>\n",
       "      <td>Челябинск</td>\n",
       "      <td>62150.0</td>\n",
       "      <td>61612.0</td>\n",
       "      <td>13591.0</td>\n",
       "      <td>149885.0</td>\n",
       "    </tr>\n",
       "    <tr>\n",
       "      <th>3</th>\n",
       "      <td>Нижний Новгород</td>\n",
       "      <td>62047.0</td>\n",
       "      <td>60389.0</td>\n",
       "      <td>12333.0</td>\n",
       "      <td>150686.0</td>\n",
       "    </tr>\n",
       "  </tbody>\n",
       "</table>\n",
       "</div>"
      ],
      "text/plain": [
       "            Регион     mean   median      min       max\n",
       "5             Омск  65346.0  62312.0  14764.0  153243.0\n",
       "4      Новосибирск  63805.0  63636.0  12038.0  141966.0\n",
       "0     Екатеринбург  63551.0  63752.0  12808.0  146681.0\n",
       "6  Санкт-Петербург  63268.0  61452.0  12656.0  151561.0\n",
       "1           Казань  62778.0  62138.0  12425.0  155021.0\n",
       "2           Москва  62625.0  61446.0  12317.0  154777.0\n",
       "7        Челябинск  62150.0  61612.0  13591.0  149885.0\n",
       "3  Нижний Новгород  62047.0  60389.0  12333.0  150686.0"
      ]
     },
     "execution_count": 38,
     "metadata": {},
     "output_type": "execute_result"
    }
   ],
   "source": [
    "df.groupby('Регион')['Зарплата'].agg([np.mean, np.median, min, max]).reset_index().sort_values('mean', ascending = False).round()"
   ]
  },
  {
   "cell_type": "markdown",
   "metadata": {},
   "source": [
    "- 75% опрошенных в Москве зарабатывают меньше 60 тыс. руб. - НЕ ВЕРНО"
   ]
  },
  {
   "cell_type": "code",
   "execution_count": 39,
   "metadata": {},
   "outputs": [],
   "source": [
    "df_moscow = df[df['Регион'] == 'Москва']"
   ]
  },
  {
   "cell_type": "code",
   "execution_count": 40,
   "metadata": {},
   "outputs": [
    {
     "name": "stdout",
     "output_type": "stream",
     "text": [
      "Менее 60000 рублей зарабатывают 47.92% опрошенных в Москве людей.\n"
     ]
    }
   ],
   "source": [
    "print(f\"Менее 60000 рублей зарабатывают {stats.percentileofscore(df_moscow['Зарплата'], 60000).round(2)}% опрошенных в Москве людей.\")"
   ]
  },
  {
   "cell_type": "code",
   "execution_count": 41,
   "metadata": {},
   "outputs": [
    {
     "name": "stdout",
     "output_type": "stream",
     "text": [
      "75% опрошенных в Москве зарабатывают меньше 80264.0 рублей.\n"
     ]
    }
   ],
   "source": [
    "print(f\"75% опрошенных в Москве зарабатывают меньше {np.quantile(df_moscow['Зарплата'], 0.75)} рублей.\")"
   ]
  },
  {
   "cell_type": "markdown",
   "metadata": {},
   "source": [
    "- Только в Екатеринбурге медиана больше среднего. - ВЕРНО"
   ]
  },
  {
   "cell_type": "code",
   "execution_count": 42,
   "metadata": {},
   "outputs": [
    {
     "data": {
      "text/html": [
       "<div>\n",
       "<style scoped>\n",
       "    .dataframe tbody tr th:only-of-type {\n",
       "        vertical-align: middle;\n",
       "    }\n",
       "\n",
       "    .dataframe tbody tr th {\n",
       "        vertical-align: top;\n",
       "    }\n",
       "\n",
       "    .dataframe thead th {\n",
       "        text-align: right;\n",
       "    }\n",
       "</style>\n",
       "<table border=\"1\" class=\"dataframe\">\n",
       "  <thead>\n",
       "    <tr style=\"text-align: right;\">\n",
       "      <th></th>\n",
       "      <th>Регион</th>\n",
       "      <th>mean</th>\n",
       "      <th>median</th>\n",
       "      <th>min</th>\n",
       "      <th>max</th>\n",
       "    </tr>\n",
       "  </thead>\n",
       "  <tbody>\n",
       "    <tr>\n",
       "      <th>0</th>\n",
       "      <td>Екатеринбург</td>\n",
       "      <td>63551.0</td>\n",
       "      <td>63752.0</td>\n",
       "      <td>12808.0</td>\n",
       "      <td>146681.0</td>\n",
       "    </tr>\n",
       "  </tbody>\n",
       "</table>\n",
       "</div>"
      ],
      "text/plain": [
       "         Регион     mean   median      min       max\n",
       "0  Екатеринбург  63551.0  63752.0  12808.0  146681.0"
      ]
     },
     "execution_count": 42,
     "metadata": {},
     "output_type": "execute_result"
    }
   ],
   "source": [
    "df_11 = df.groupby('Регион')['Зарплата'].agg([np.mean, np.median, min, max]).reset_index().sort_values('mean')\n",
    "df_11[df_11['median'] > df_11['mean']].round()"
   ]
  },
  {
   "cell_type": "markdown",
   "metadata": {},
   "source": [
    "***12. Чему равна мода для переменной \"Опыт работы\"?***"
   ]
  },
  {
   "cell_type": "code",
   "execution_count": 43,
   "metadata": {},
   "outputs": [
    {
     "data": {
      "text/plain": [
       "32"
      ]
     },
     "execution_count": 43,
     "metadata": {},
     "output_type": "execute_result"
    }
   ],
   "source": [
    "statistics.mode(df['Опыт работы'])"
   ]
  },
  {
   "cell_type": "code",
   "execution_count": 44,
   "metadata": {},
   "outputs": [
    {
     "name": "stdout",
     "output_type": "stream",
     "text": [
      "Мода для переменной \"Опыт работы\" равна: 32\n"
     ]
    }
   ],
   "source": [
    "print(f'Мода для переменной \"Опыт работы\" равна: {statistics.mode(df[\"Опыт работы\"])}')"
   ]
  },
  {
   "cell_type": "markdown",
   "metadata": {},
   "source": [
    "***13. Какие профессии самые популярные в Казани,  Москве и Омске?***"
   ]
  },
  {
   "cell_type": "markdown",
   "metadata": {},
   "source": [
    "Самые популярные профессии в Казани,  Москве и Омске:"
   ]
  },
  {
   "cell_type": "code",
   "execution_count": 45,
   "metadata": {},
   "outputs": [
    {
     "name": "stdout",
     "output_type": "stream",
     "text": [
      "Регион   \n",
      "Казань  0          Девопс инженер\n",
      "Москва  0    Дизайнер интерфейсов\n",
      "        1               Строитель\n",
      "Омск    0                    Врач\n",
      "Name: Профессия, dtype: object\n"
     ]
    }
   ],
   "source": [
    "print(df[df['Регион'].isin(['Москва', 'Омск', 'Казань'])].groupby('Регион')['Профессия'].apply(lambda x: x.mode()))"
   ]
  },
  {
   "cell_type": "markdown",
   "metadata": {},
   "source": [
    "Полный рейтинг профессий по регионам:"
   ]
  },
  {
   "cell_type": "code",
   "execution_count": 46,
   "metadata": {},
   "outputs": [
    {
     "data": {
      "text/plain": [
       "(    Регион                Профессия  count\n",
       " 7   Казань           Девопс инженер     58\n",
       " 1   Казань                    Актер     51\n",
       " 14  Казань     Продуктовый менеджер     51\n",
       " 4   Казань                Бухгалтер     48\n",
       " 18  Казань      Финансовый аналитик     48\n",
       " 9   Казань     Дизайнер интерфейсов     47\n",
       " 10  Казань                  Инженер     42\n",
       " 11  Казань      Инженер-программист     42\n",
       " 2   Казань  Аналитик больших данных     40\n",
       " 12  Казань               Маркетолог     40\n",
       " 16  Казань                Строитель     37\n",
       " 17  Казань                  Учитель     37\n",
       " 15  Казань  Системный администратор     36\n",
       " 13  Казань              Программист     35\n",
       " 6   Казань                     Врач     34\n",
       " 5   Казань                 Водитель     33\n",
       " 0   Казань              UX-дизайнер     31\n",
       " 3   Казань          Бизнес-аналитик     29\n",
       " 8   Казань      Диджитал-маркетолог     29\n",
       " 28  Москва     Дизайнер интерфейсов    136\n",
       " 35  Москва                Строитель    136\n",
       " 27  Москва      Диджитал-маркетолог    134\n",
       " 30  Москва      Инженер-программист    134\n",
       " 19  Москва              UX-дизайнер    132\n",
       " 37  Москва      Финансовый аналитик    131\n",
       " 29  Москва                  Инженер    125\n",
       " 22  Москва          Бизнес-аналитик    124\n",
       " 20  Москва                    Актер    121\n",
       " 33  Москва     Продуктовый менеджер    121\n",
       " 26  Москва           Девопс инженер    120\n",
       " 36  Москва                  Учитель    120\n",
       " 23  Москва                Бухгалтер    119\n",
       " 21  Москва  Аналитик больших данных    118\n",
       " 32  Москва              Программист    118\n",
       " 25  Москва                     Врач    114\n",
       " 24  Москва                 Водитель    113\n",
       " 34  Москва  Системный администратор    110\n",
       " 31  Москва               Маркетолог    105\n",
       " 44    Омск                     Врач     31\n",
       " 51    Омск              Программист     29\n",
       " 52    Омск     Продуктовый менеджер     27\n",
       " 46    Омск      Диджитал-маркетолог     26\n",
       " 47    Омск     Дизайнер интерфейсов     24\n",
       " 48    Омск                  Инженер     23\n",
       " 53    Омск  Системный администратор     23\n",
       " 43    Омск                 Водитель     21\n",
       " 54    Омск                Строитель     21\n",
       " 41    Омск          Бизнес-аналитик     20\n",
       " 45    Омск           Девопс инженер     20\n",
       " 50    Омск               Маркетолог     20\n",
       " 38    Омск              UX-дизайнер     18\n",
       " 39    Омск                    Актер     18\n",
       " 40    Омск  Аналитик больших данных     18\n",
       " 42    Омск                Бухгалтер     17\n",
       " 56    Омск      Финансовый аналитик     17\n",
       " 49    Омск      Инженер-программист     15\n",
       " 55    Омск                  Учитель     15,)"
      ]
     },
     "execution_count": 46,
     "metadata": {},
     "output_type": "execute_result"
    }
   ],
   "source": [
    "df_city = df[df['Регион'].isin(['Москва', 'Казань', 'Омск'])]\n",
    "df_city.groupby(['Регион', 'Профессия'])['Профессия'].agg(['count']).reset_index().sort_values(by=['Регион','count'], ascending = [True, False]),"
   ]
  },
  {
   "cell_type": "markdown",
   "metadata": {},
   "source": [
    "***14. Определите, для какого уровня образования средняя зарплата выше?***"
   ]
  },
  {
   "cell_type": "code",
   "execution_count": 47,
   "metadata": {},
   "outputs": [
    {
     "data": {
      "text/html": [
       "<div>\n",
       "<style scoped>\n",
       "    .dataframe tbody tr th:only-of-type {\n",
       "        vertical-align: middle;\n",
       "    }\n",
       "\n",
       "    .dataframe tbody tr th {\n",
       "        vertical-align: top;\n",
       "    }\n",
       "\n",
       "    .dataframe thead th {\n",
       "        text-align: right;\n",
       "    }\n",
       "</style>\n",
       "<table border=\"1\" class=\"dataframe\">\n",
       "  <thead>\n",
       "    <tr style=\"text-align: right;\">\n",
       "      <th></th>\n",
       "      <th>Уровень образования</th>\n",
       "      <th>Зарплата</th>\n",
       "    </tr>\n",
       "  </thead>\n",
       "  <tbody>\n",
       "    <tr>\n",
       "      <th>2</th>\n",
       "      <td>магистр</td>\n",
       "      <td>63647.69</td>\n",
       "    </tr>\n",
       "    <tr>\n",
       "      <th>3</th>\n",
       "      <td>среднее общее</td>\n",
       "      <td>63180.91</td>\n",
       "    </tr>\n",
       "    <tr>\n",
       "      <th>0</th>\n",
       "      <td>бакалавр</td>\n",
       "      <td>62971.54</td>\n",
       "    </tr>\n",
       "    <tr>\n",
       "      <th>4</th>\n",
       "      <td>среднее профессиональное</td>\n",
       "      <td>62931.21</td>\n",
       "    </tr>\n",
       "    <tr>\n",
       "      <th>1</th>\n",
       "      <td>доктор наук</td>\n",
       "      <td>61474.80</td>\n",
       "    </tr>\n",
       "  </tbody>\n",
       "</table>\n",
       "</div>"
      ],
      "text/plain": [
       "        Уровень образования  Зарплата\n",
       "2                   магистр  63647.69\n",
       "3             среднее общее  63180.91\n",
       "0                  бакалавр  62971.54\n",
       "4  среднее профессиональное  62931.21\n",
       "1               доктор наук  61474.80"
      ]
     },
     "execution_count": 47,
     "metadata": {},
     "output_type": "execute_result"
    }
   ],
   "source": [
    "df_high_salary = df[['Уровень образования', 'Зарплата']]\n",
    "df_groupped = df_high_salary.groupby('Уровень образования')['Зарплата']\n",
    "education_level = df_groupped.agg('mean').reset_index().round(2)\n",
    "education_level = education_level.sort_values(by='Зарплата', ascending = False)\n",
    "education_level"
   ]
  },
  {
   "cell_type": "code",
   "execution_count": 48,
   "metadata": {},
   "outputs": [
    {
     "data": {
      "image/png": "[encoded data removed]",
      "text/plain": [
       "<Figure size 576x360 with 1 Axes>"
      ]
     },
     "metadata": {
      "needs_background": "light"
     },
     "output_type": "display_data"
    }
   ],
   "source": [
    "fig, ax = plt.subplots(figsize=(8, 5))\n",
    "\n",
    "sns.barplot(data = education_level, y = 'Уровень образования', x='Зарплата',  palette='Blues_d', ax=ax)\n",
    "ax.set_xlim(61000, 64000) \n",
    "\n",
    "plt.title('РАСПРЕДЕЛЕНИЕ СРЕДНЕГО ЗНАЧЕНИЯ ЗАРПЛАТЫ ПО УРОВНЯМ ОБРАЗОВАНИЯ', fontweight='bold', pad=10);\n",
    "plt.xlabel('ДЕНЕЖНЫЕ ЕДИНИЦЫ', fontstyle='italic', labelpad=10);\n",
    "plt.ylabel('УРОВНИ ОБРАЗОВАНИЯ', fontstyle = 'italic', labelpad=10);\n",
    "\n",
    "plt.show();"
   ]
  },
  {
   "cell_type": "code",
   "execution_count": 49,
   "metadata": {},
   "outputs": [
    {
     "name": "stdout",
     "output_type": "stream",
     "text": [
      "Средняя зарплата выше для уровня образования: магистр.\n"
     ]
    }
   ],
   "source": [
    "print(f\"Средняя зарплата выше для уровня образования: {df_groupped.agg('mean').idxmax()}.\")"
   ]
  },
  {
   "cell_type": "markdown",
   "metadata": {},
   "source": [
    "***15. Для какой профессии среди мужчин самая большая средняя зарплата?***"
   ]
  },
  {
   "cell_type": "code",
   "execution_count": 50,
   "metadata": {},
   "outputs": [],
   "source": [
    "df_gender = df[df['Пол'] == 'мужской']"
   ]
  },
  {
   "cell_type": "code",
   "execution_count": 51,
   "metadata": {},
   "outputs": [
    {
     "data": {
      "text/html": [
       "<div>\n",
       "<style scoped>\n",
       "    .dataframe tbody tr th:only-of-type {\n",
       "        vertical-align: middle;\n",
       "    }\n",
       "\n",
       "    .dataframe tbody tr th {\n",
       "        vertical-align: top;\n",
       "    }\n",
       "\n",
       "    .dataframe thead th {\n",
       "        text-align: right;\n",
       "    }\n",
       "</style>\n",
       "<table border=\"1\" class=\"dataframe\">\n",
       "  <thead>\n",
       "    <tr style=\"text-align: right;\">\n",
       "      <th></th>\n",
       "      <th>Профессия</th>\n",
       "      <th>mean</th>\n",
       "    </tr>\n",
       "  </thead>\n",
       "  <tbody>\n",
       "    <tr>\n",
       "      <th>4</th>\n",
       "      <td>Бухгалтер</td>\n",
       "      <td>67206.0</td>\n",
       "    </tr>\n",
       "    <tr>\n",
       "      <th>5</th>\n",
       "      <td>Водитель</td>\n",
       "      <td>66604.0</td>\n",
       "    </tr>\n",
       "    <tr>\n",
       "      <th>8</th>\n",
       "      <td>Диджитал-маркетолог</td>\n",
       "      <td>64354.0</td>\n",
       "    </tr>\n",
       "    <tr>\n",
       "      <th>18</th>\n",
       "      <td>Финансовый аналитик</td>\n",
       "      <td>64208.0</td>\n",
       "    </tr>\n",
       "    <tr>\n",
       "      <th>3</th>\n",
       "      <td>Бизнес-аналитик</td>\n",
       "      <td>64151.0</td>\n",
       "    </tr>\n",
       "    <tr>\n",
       "      <th>14</th>\n",
       "      <td>Продуктовый менеджер</td>\n",
       "      <td>63569.0</td>\n",
       "    </tr>\n",
       "    <tr>\n",
       "      <th>16</th>\n",
       "      <td>Строитель</td>\n",
       "      <td>63285.0</td>\n",
       "    </tr>\n",
       "    <tr>\n",
       "      <th>9</th>\n",
       "      <td>Дизайнер интерфейсов</td>\n",
       "      <td>63244.0</td>\n",
       "    </tr>\n",
       "    <tr>\n",
       "      <th>0</th>\n",
       "      <td>UX-дизайнер</td>\n",
       "      <td>63055.0</td>\n",
       "    </tr>\n",
       "    <tr>\n",
       "      <th>10</th>\n",
       "      <td>Инженер</td>\n",
       "      <td>62822.0</td>\n",
       "    </tr>\n",
       "    <tr>\n",
       "      <th>2</th>\n",
       "      <td>Аналитик больших данных</td>\n",
       "      <td>62580.0</td>\n",
       "    </tr>\n",
       "    <tr>\n",
       "      <th>1</th>\n",
       "      <td>Актер</td>\n",
       "      <td>62474.0</td>\n",
       "    </tr>\n",
       "    <tr>\n",
       "      <th>13</th>\n",
       "      <td>Программист</td>\n",
       "      <td>62180.0</td>\n",
       "    </tr>\n",
       "    <tr>\n",
       "      <th>15</th>\n",
       "      <td>Системный администратор</td>\n",
       "      <td>62065.0</td>\n",
       "    </tr>\n",
       "    <tr>\n",
       "      <th>6</th>\n",
       "      <td>Врач</td>\n",
       "      <td>61940.0</td>\n",
       "    </tr>\n",
       "    <tr>\n",
       "      <th>12</th>\n",
       "      <td>Маркетолог</td>\n",
       "      <td>61747.0</td>\n",
       "    </tr>\n",
       "    <tr>\n",
       "      <th>7</th>\n",
       "      <td>Девопс инженер</td>\n",
       "      <td>61673.0</td>\n",
       "    </tr>\n",
       "    <tr>\n",
       "      <th>17</th>\n",
       "      <td>Учитель</td>\n",
       "      <td>60196.0</td>\n",
       "    </tr>\n",
       "    <tr>\n",
       "      <th>11</th>\n",
       "      <td>Инженер-программист</td>\n",
       "      <td>59947.0</td>\n",
       "    </tr>\n",
       "  </tbody>\n",
       "</table>\n",
       "</div>"
      ],
      "text/plain": [
       "                  Профессия     mean\n",
       "4                 Бухгалтер  67206.0\n",
       "5                  Водитель  66604.0\n",
       "8       Диджитал-маркетолог  64354.0\n",
       "18      Финансовый аналитик  64208.0\n",
       "3           Бизнес-аналитик  64151.0\n",
       "14     Продуктовый менеджер  63569.0\n",
       "16                Строитель  63285.0\n",
       "9      Дизайнер интерфейсов  63244.0\n",
       "0               UX-дизайнер  63055.0\n",
       "10                  Инженер  62822.0\n",
       "2   Аналитик больших данных  62580.0\n",
       "1                     Актер  62474.0\n",
       "13              Программист  62180.0\n",
       "15  Системный администратор  62065.0\n",
       "6                      Врач  61940.0\n",
       "12               Маркетолог  61747.0\n",
       "7            Девопс инженер  61673.0\n",
       "17                  Учитель  60196.0\n",
       "11      Инженер-программист  59947.0"
      ]
     },
     "execution_count": 51,
     "metadata": {},
     "output_type": "execute_result"
    }
   ],
   "source": [
    "profession_sorted = df_gender.groupby('Профессия')['Зарплата'].agg([np.mean]).reset_index()\n",
    "profession_sorted = profession_sorted.sort_values('mean', ascending = False).round()\n",
    "profession_sorted"
   ]
  },
  {
   "cell_type": "code",
   "execution_count": 52,
   "metadata": {},
   "outputs": [
    {
     "data": {
      "image/png": "[encoded data removed]",
      "text/plain": [
       "<Figure size 720x432 with 1 Axes>"
      ]
     },
     "metadata": {
      "needs_background": "light"
     },
     "output_type": "display_data"
    }
   ],
   "source": [
    "fig, ax = plt.subplots(figsize=(10, 6))\n",
    "sns.barplot(data = profession_sorted, y = 'Профессия', x='mean',  palette='Blues_d', ax=ax)\n",
    "ax.set_xlim(59000, 68000) \n",
    "\n",
    "plt.title('РАСПРЕДЕЛЕНИЕ СРЕДНЕГО ЗНАЧЕНИЯ ЗАРПЛАТЫ ДЛЯ МУЖЧИН ПО ПРОФЕССИЯМ', fontweight='bold', pad=10)\n",
    "plt.xlabel('ДЕНЕЖНЫЕ ЕДИНИЦЫ', fontstyle='italic', labelpad=10)\n",
    "plt.ylabel('ПРОФЕССИИ', fontstyle = 'italic', labelpad=10)\n",
    "\n",
    "plt.show();"
   ]
  },
  {
   "cell_type": "code",
   "execution_count": 53,
   "metadata": {},
   "outputs": [
    {
     "name": "stdout",
     "output_type": "stream",
     "text": [
      "Самая большая средняя зарплата среди мужчин для профессии: Бухгалтер.\n"
     ]
    }
   ],
   "source": [
    "print(f\"Самая большая средняя зарплата среди мужчин для профессии: {df_gender.groupby('Профессия')['Зарплата'].mean().idxmax()}.\")"
   ]
  },
  {
   "cell_type": "markdown",
   "metadata": {},
   "source": [
    "***16. В каком регионе медианное значение зарплаты для женщин является наименьшим?***"
   ]
  },
  {
   "cell_type": "code",
   "execution_count": 54,
   "metadata": {},
   "outputs": [],
   "source": [
    "df_gender = df[df['Пол'] == 'женский']"
   ]
  },
  {
   "cell_type": "code",
   "execution_count": 55,
   "metadata": {},
   "outputs": [
    {
     "data": {
      "text/html": [
       "<div>\n",
       "<style scoped>\n",
       "    .dataframe tbody tr th:only-of-type {\n",
       "        vertical-align: middle;\n",
       "    }\n",
       "\n",
       "    .dataframe tbody tr th {\n",
       "        vertical-align: top;\n",
       "    }\n",
       "\n",
       "    .dataframe thead th {\n",
       "        text-align: right;\n",
       "    }\n",
       "</style>\n",
       "<table border=\"1\" class=\"dataframe\">\n",
       "  <thead>\n",
       "    <tr style=\"text-align: right;\">\n",
       "      <th></th>\n",
       "      <th>Регион</th>\n",
       "      <th>median</th>\n",
       "    </tr>\n",
       "  </thead>\n",
       "  <tbody>\n",
       "    <tr>\n",
       "      <th>4</th>\n",
       "      <td>Новосибирск</td>\n",
       "      <td>66073.0</td>\n",
       "    </tr>\n",
       "    <tr>\n",
       "      <th>5</th>\n",
       "      <td>Омск</td>\n",
       "      <td>62652.0</td>\n",
       "    </tr>\n",
       "    <tr>\n",
       "      <th>6</th>\n",
       "      <td>Санкт-Петербург</td>\n",
       "      <td>62329.0</td>\n",
       "    </tr>\n",
       "    <tr>\n",
       "      <th>2</th>\n",
       "      <td>Москва</td>\n",
       "      <td>62106.0</td>\n",
       "    </tr>\n",
       "    <tr>\n",
       "      <th>0</th>\n",
       "      <td>Екатеринбург</td>\n",
       "      <td>61539.0</td>\n",
       "    </tr>\n",
       "    <tr>\n",
       "      <th>1</th>\n",
       "      <td>Казань</td>\n",
       "      <td>61055.5</td>\n",
       "    </tr>\n",
       "    <tr>\n",
       "      <th>7</th>\n",
       "      <td>Челябинск</td>\n",
       "      <td>59926.0</td>\n",
       "    </tr>\n",
       "    <tr>\n",
       "      <th>3</th>\n",
       "      <td>Нижний Новгород</td>\n",
       "      <td>59473.0</td>\n",
       "    </tr>\n",
       "  </tbody>\n",
       "</table>\n",
       "</div>"
      ],
      "text/plain": [
       "            Регион   median\n",
       "4      Новосибирск  66073.0\n",
       "5             Омск  62652.0\n",
       "6  Санкт-Петербург  62329.0\n",
       "2           Москва  62106.0\n",
       "0     Екатеринбург  61539.0\n",
       "1           Казань  61055.5\n",
       "7        Челябинск  59926.0\n",
       "3  Нижний Новгород  59473.0"
      ]
     },
     "execution_count": 55,
     "metadata": {},
     "output_type": "execute_result"
    }
   ],
   "source": [
    "df_gender_group = df_gender.groupby('Регион')['Зарплата'].agg([np.median]).reset_index().sort_values('median', ascending = False)\n",
    "df_gender_group"
   ]
  },
  {
   "cell_type": "code",
   "execution_count": 56,
   "metadata": {},
   "outputs": [
    {
     "data": {
      "image/png": "[encoded data removed]",
      "text/plain": [
       "<Figure size 576x360 with 1 Axes>"
      ]
     },
     "metadata": {
      "needs_background": "light"
     },
     "output_type": "display_data"
    }
   ],
   "source": [
    "fig, ax = plt.subplots(figsize=(8, 5))\n",
    "sns.barplot(data = df_gender_group, y = 'Регион', x='median',  palette='Blues_d', ax=ax)\n",
    "ax.set_xlim(59000, 67000)\n",
    "\n",
    "plt.title('РАСПРЕДЕЛЕНИЕ МЕДИАННОГО ЗНАЧЕНИЯ ЗАРПЛАТЫ ДЛЯ ЖЕНЩИН ПО РЕГИОНАМ', fontweight='bold', pad=10)\n",
    "plt.xlabel('ДЕНЕЖНЫЕ ЕДИНИЦЫ', fontstyle='italic', labelpad=10)\n",
    "plt.ylabel('РЕГИОНЫ', fontstyle = 'italic', labelpad=10)\n",
    "\n",
    "plt.show();"
   ]
  },
  {
   "cell_type": "code",
   "execution_count": 57,
   "metadata": {},
   "outputs": [
    {
     "name": "stdout",
     "output_type": "stream",
     "text": [
      "Медианное значение зарплаты для женщин является наименьшим в городе: Нижний Новгород.\n"
     ]
    }
   ],
   "source": [
    "print(f\"Медианное значение зарплаты для женщин является наименьшим в городе: {df_gender.groupby('Регион')['Зарплата'].mean().idxmin()}.\")"
   ]
  },
  {
   "cell_type": "markdown",
   "metadata": {},
   "source": [
    "***17. Визуализируйте среднюю зарплату в Екатеринбурге по уровню образования для следующих возрастных промежутков: до 19, от 20 до 30, от 31 до 45, от 45 до 60, после 60.***\n",
    "\n",
    "Если вам 26 лет, то какое у вас должно быть образование, чтобы получать максимальную среднюю зарплату (смотреть по медиане)?\n",
    "\n"
   ]
  },
  {
   "cell_type": "code",
   "execution_count": 58,
   "metadata": {},
   "outputs": [],
   "source": [
    "df_Ekaterinburg = df[df['Регион'] == 'Екатеринбург'].copy()\n",
    "\n",
    "bins = [0, 19, 30, 45, 60, 100]\n",
    "\n",
    "df_Ekaterinburg.loc[:,'age_grades'] = pd.cut(df_Ekaterinburg['Возраст'], bins, labels = ['до 19', 'от 20 до 30', 'от 31 до 45', 'от 45 до 60','после 60'])"
   ]
  },
  {
   "cell_type": "code",
   "execution_count": 59,
   "metadata": {},
   "outputs": [
    {
     "data": {
      "text/html": [
       "<div>\n",
       "<style scoped>\n",
       "    .dataframe tbody tr th:only-of-type {\n",
       "        vertical-align: middle;\n",
       "    }\n",
       "\n",
       "    .dataframe tbody tr th {\n",
       "        vertical-align: top;\n",
       "    }\n",
       "\n",
       "    .dataframe thead th {\n",
       "        text-align: right;\n",
       "    }\n",
       "</style>\n",
       "<table border=\"1\" class=\"dataframe\">\n",
       "  <thead>\n",
       "    <tr style=\"text-align: right;\">\n",
       "      <th></th>\n",
       "      <th>age_grades</th>\n",
       "      <th>Уровень образования</th>\n",
       "      <th>median</th>\n",
       "    </tr>\n",
       "  </thead>\n",
       "  <tbody>\n",
       "    <tr>\n",
       "      <th>0</th>\n",
       "      <td>до 19</td>\n",
       "      <td>бакалавр</td>\n",
       "      <td>44269.0</td>\n",
       "    </tr>\n",
       "    <tr>\n",
       "      <th>1</th>\n",
       "      <td>до 19</td>\n",
       "      <td>доктор наук</td>\n",
       "      <td>34065.0</td>\n",
       "    </tr>\n",
       "    <tr>\n",
       "      <th>2</th>\n",
       "      <td>до 19</td>\n",
       "      <td>магистр</td>\n",
       "      <td>44391.5</td>\n",
       "    </tr>\n",
       "    <tr>\n",
       "      <th>3</th>\n",
       "      <td>до 19</td>\n",
       "      <td>среднее общее</td>\n",
       "      <td>56731.0</td>\n",
       "    </tr>\n",
       "    <tr>\n",
       "      <th>4</th>\n",
       "      <td>до 19</td>\n",
       "      <td>среднее профессиональное</td>\n",
       "      <td>88356.0</td>\n",
       "    </tr>\n",
       "    <tr>\n",
       "      <th>5</th>\n",
       "      <td>от 20 до 30</td>\n",
       "      <td>бакалавр</td>\n",
       "      <td>59880.5</td>\n",
       "    </tr>\n",
       "    <tr>\n",
       "      <th>6</th>\n",
       "      <td>от 20 до 30</td>\n",
       "      <td>доктор наук</td>\n",
       "      <td>59819.0</td>\n",
       "    </tr>\n",
       "    <tr>\n",
       "      <th>7</th>\n",
       "      <td>от 20 до 30</td>\n",
       "      <td>магистр</td>\n",
       "      <td>72766.0</td>\n",
       "    </tr>\n",
       "    <tr>\n",
       "      <th>8</th>\n",
       "      <td>от 20 до 30</td>\n",
       "      <td>среднее общее</td>\n",
       "      <td>50504.0</td>\n",
       "    </tr>\n",
       "    <tr>\n",
       "      <th>9</th>\n",
       "      <td>от 20 до 30</td>\n",
       "      <td>среднее профессиональное</td>\n",
       "      <td>74331.0</td>\n",
       "    </tr>\n",
       "    <tr>\n",
       "      <th>10</th>\n",
       "      <td>от 31 до 45</td>\n",
       "      <td>бакалавр</td>\n",
       "      <td>66626.0</td>\n",
       "    </tr>\n",
       "    <tr>\n",
       "      <th>11</th>\n",
       "      <td>от 31 до 45</td>\n",
       "      <td>доктор наук</td>\n",
       "      <td>68681.0</td>\n",
       "    </tr>\n",
       "    <tr>\n",
       "      <th>12</th>\n",
       "      <td>от 31 до 45</td>\n",
       "      <td>магистр</td>\n",
       "      <td>61795.5</td>\n",
       "    </tr>\n",
       "    <tr>\n",
       "      <th>13</th>\n",
       "      <td>от 31 до 45</td>\n",
       "      <td>среднее общее</td>\n",
       "      <td>61337.5</td>\n",
       "    </tr>\n",
       "    <tr>\n",
       "      <th>14</th>\n",
       "      <td>от 31 до 45</td>\n",
       "      <td>среднее профессиональное</td>\n",
       "      <td>56762.0</td>\n",
       "    </tr>\n",
       "    <tr>\n",
       "      <th>15</th>\n",
       "      <td>от 45 до 60</td>\n",
       "      <td>бакалавр</td>\n",
       "      <td>66472.0</td>\n",
       "    </tr>\n",
       "    <tr>\n",
       "      <th>16</th>\n",
       "      <td>от 45 до 60</td>\n",
       "      <td>доктор наук</td>\n",
       "      <td>63716.0</td>\n",
       "    </tr>\n",
       "    <tr>\n",
       "      <th>17</th>\n",
       "      <td>от 45 до 60</td>\n",
       "      <td>магистр</td>\n",
       "      <td>58001.0</td>\n",
       "    </tr>\n",
       "    <tr>\n",
       "      <th>18</th>\n",
       "      <td>от 45 до 60</td>\n",
       "      <td>среднее общее</td>\n",
       "      <td>64194.0</td>\n",
       "    </tr>\n",
       "    <tr>\n",
       "      <th>19</th>\n",
       "      <td>от 45 до 60</td>\n",
       "      <td>среднее профессиональное</td>\n",
       "      <td>63122.0</td>\n",
       "    </tr>\n",
       "    <tr>\n",
       "      <th>20</th>\n",
       "      <td>после 60</td>\n",
       "      <td>бакалавр</td>\n",
       "      <td>46818.5</td>\n",
       "    </tr>\n",
       "    <tr>\n",
       "      <th>21</th>\n",
       "      <td>после 60</td>\n",
       "      <td>доктор наук</td>\n",
       "      <td>59071.0</td>\n",
       "    </tr>\n",
       "    <tr>\n",
       "      <th>22</th>\n",
       "      <td>после 60</td>\n",
       "      <td>магистр</td>\n",
       "      <td>65209.0</td>\n",
       "    </tr>\n",
       "    <tr>\n",
       "      <th>23</th>\n",
       "      <td>после 60</td>\n",
       "      <td>среднее общее</td>\n",
       "      <td>62506.0</td>\n",
       "    </tr>\n",
       "    <tr>\n",
       "      <th>24</th>\n",
       "      <td>после 60</td>\n",
       "      <td>среднее профессиональное</td>\n",
       "      <td>70279.0</td>\n",
       "    </tr>\n",
       "  </tbody>\n",
       "</table>\n",
       "</div>"
      ],
      "text/plain": [
       "     age_grades       Уровень образования   median\n",
       "0         до 19                  бакалавр  44269.0\n",
       "1         до 19               доктор наук  34065.0\n",
       "2         до 19                   магистр  44391.5\n",
       "3         до 19             среднее общее  56731.0\n",
       "4         до 19  среднее профессиональное  88356.0\n",
       "5   от 20 до 30                  бакалавр  59880.5\n",
       "6   от 20 до 30               доктор наук  59819.0\n",
       "7   от 20 до 30                   магистр  72766.0\n",
       "8   от 20 до 30             среднее общее  50504.0\n",
       "9   от 20 до 30  среднее профессиональное  74331.0\n",
       "10  от 31 до 45                  бакалавр  66626.0\n",
       "11  от 31 до 45               доктор наук  68681.0\n",
       "12  от 31 до 45                   магистр  61795.5\n",
       "13  от 31 до 45             среднее общее  61337.5\n",
       "14  от 31 до 45  среднее профессиональное  56762.0\n",
       "15  от 45 до 60                  бакалавр  66472.0\n",
       "16  от 45 до 60               доктор наук  63716.0\n",
       "17  от 45 до 60                   магистр  58001.0\n",
       "18  от 45 до 60             среднее общее  64194.0\n",
       "19  от 45 до 60  среднее профессиональное  63122.0\n",
       "20     после 60                  бакалавр  46818.5\n",
       "21     после 60               доктор наук  59071.0\n",
       "22     после 60                   магистр  65209.0\n",
       "23     после 60             среднее общее  62506.0\n",
       "24     после 60  среднее профессиональное  70279.0"
      ]
     },
     "execution_count": 59,
     "metadata": {},
     "output_type": "execute_result"
    }
   ],
   "source": [
    "df_res = df_Ekaterinburg.groupby(['age_grades', 'Уровень образования'])['Зарплата'].agg([np.median]).reset_index()\n",
    "df_res"
   ]
  },
  {
   "cell_type": "code",
   "execution_count": 60,
   "metadata": {},
   "outputs": [
    {
     "data": {
      "image/png": "[encoded data removed]",
      "text/plain": [
       "<Figure size 720x576 with 5 Axes>"
      ]
     },
     "metadata": {
      "needs_background": "light"
     },
     "output_type": "display_data"
    }
   ],
   "source": [
    "# Создание объекта FacetGrid с чуть более крупными графиками\n",
    "g = sns.FacetGrid(df_res, col='age_grades', height=3, aspect=1.2, col_wrap=3, sharey=False)\n",
    "\n",
    "# Указание порядка категорий по степени образования\n",
    "education_order = ['доктор наук', 'магистр', 'бакалавр', 'среднее профессиональное', 'среднее общее']\n",
    "g.map(sns.barplot, 'median', 'Уровень образования', order=education_order, color='royalblue', ci=None)\n",
    "\n",
    "# Добавляем заголовки\n",
    "g.set_titles(\"{col_name}\")\n",
    "g.set_axis_labels(\"Зарплата\", \"Уровень образования\")\n",
    "\n",
    "# Увеличение количества делений и настройка\n",
    "tick_positions = np.linspace(0, 80000, num=5)  \n",
    "for ax in g.axes.flatten():\n",
    "    ax.set_xticks(tick_positions)\n",
    "    ax.set_xticklabels(tick_positions, rotation=45)\n",
    "\n",
    "# Настройка расположения элементов\n",
    "plt.subplots_adjust(hspace=0.5, wspace=1.7)\n",
    "g.fig.set_size_inches(10, 8)\n",
    "\n",
    "\n",
    "plt.show()"
   ]
  },
  {
   "cell_type": "code",
   "execution_count": 61,
   "metadata": {},
   "outputs": [
    {
     "name": "stdout",
     "output_type": "stream",
     "text": [
      "Если вам 26 лет, то чтобы получать максимальную среднюю зарплату, необходимо иметь образование: магистр.\n"
     ]
    }
   ],
   "source": [
    "res = df_Ekaterinburg[df_Ekaterinburg['age_grades'] == 'от 20 до 30'].groupby('Уровень образования')['Зарплата'].mean().idxmax()\n",
    "print(f\"Если вам 26 лет, то чтобы получать максимальную среднюю зарплату, необходимо иметь образование: {res}.\")"
   ]
  }
 ],
 "metadata": {
  "kernelspec": {
   "display_name": "Python 3",
   "language": "python",
   "name": "python3"
  },
  "language_info": {
   "codemirror_mode": {
    "name": "ipython",
    "version": 3
   },
   "file_extension": ".py",
   "mimetype": "text/x-python",
   "name": "python",
   "nbconvert_exporter": "python",
   "pygments_lexer": "ipython3",
   "version": "3.8.5"
  }
 },
 "nbformat": 4,
 "nbformat_minor": 4
}
