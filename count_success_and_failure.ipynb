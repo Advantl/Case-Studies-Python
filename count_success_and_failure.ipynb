{
 "cells": [
  {
   "cell_type": "code",
   "execution_count": null,
   "metadata": {},
   "outputs": [],
   "source": [
    "# Файл\n",
    "!wget https://gist.github.com/Vs8th/38d5d914171c84166728a9746d212bad/raw/auto_purchase.log"
   ]
  },
  {
   "cell_type": "code",
   "execution_count": null,
   "metadata": {},
   "outputs": [],
   "source": [
    "def count_success_and_failure(file_path):\n",
    "    with open(file_path, encoding='utf-8') as f:\n",
    "        lines = f.readlines()\n",
    "\n",
    "    result_dict = {'total_errors':0, 'subscription_renewal':0}\n",
    "\n",
    "    for i, line in enumerate(lines):\n",
    "        if 'ERROR' in line:\n",
    "            result_dict['total_errors'] = result_dict.get('total_errors',0) + 1\n",
    "        if 'Обновляем подписку пользователю id:' in line:\n",
    "            if i == len(lines)-1 or 'ошибка при списании' not in lines[i+1]:\n",
    "                result_dict['subscription_renewal'] = result_dict.get('subscription_renewal',0) + 1\n",
    "\n",
    "    return (result_dict['subscription_renewal'], result_dict['total_errors'])"
   ]
  },
  {
   "cell_type": "code",
   "execution_count": null,
   "metadata": {},
   "outputs": [],
   "source": []
  },
  {
   "cell_type": "code",
   "execution_count": null,
   "metadata": {},
   "outputs": [],
   "source": []
  },
  {
   "cell_type": "code",
   "execution_count": null,
   "metadata": {},
   "outputs": [],
   "source": []
  },
  {
   "cell_type": "code",
   "execution_count": null,
   "metadata": {},
   "outputs": [],
   "source": []
  },
  {
   "cell_type": "code",
   "execution_count": null,
   "metadata": {},
   "outputs": [],
   "source": []
  },
  {
   "cell_type": "code",
   "execution_count": null,
   "metadata": {},
   "outputs": [],
   "source": []
  },
  {
   "cell_type": "code",
   "execution_count": null,
   "metadata": {},
   "outputs": [],
   "source": []
  }
 ],
 "metadata": {
  "kernelspec": {
   "display_name": "Python 3",
   "language": "python",
   "name": "python3"
  },
  "language_info": {
   "codemirror_mode": {
    "name": "ipython",
    "version": 3
   },
   "file_extension": ".py",
   "mimetype": "text/x-python",
   "name": "python",
   "nbconvert_exporter": "python",
   "pygments_lexer": "ipython3",
   "version": "3.8.5"
  }
 },
 "nbformat": 4,
 "nbformat_minor": 4
}
