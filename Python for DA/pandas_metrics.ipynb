{
 "cells": [
  {
   "cell_type": "markdown",
   "metadata": {},
   "source": [
    "***Проанализировать активность пользователей платформы и рассчитать метрики:***  \n",
    "- retention  \n",
    "- rolling retention  \n",
    "- lifetime  \n",
    "- churn rate  \n",
    "- mau  \n",
    "- wau  \n",
    "- dau  "
   ]
  },
  {
   "cell_type": "markdown",
   "metadata": {},
   "source": [
    "### Подготовка данных"
   ]
  },
  {
   "cell_type": "code",
   "execution_count": 1,
   "metadata": {},
   "outputs": [],
   "source": [
    "import pandas as pd"
   ]
  },
  {
   "cell_type": "code",
   "execution_count": 2,
   "metadata": {},
   "outputs": [
    {
     "data": {
      "text/html": [
       "<div>\n",
       "<style scoped>\n",
       "    .dataframe tbody tr th:only-of-type {\n",
       "        vertical-align: middle;\n",
       "    }\n",
       "\n",
       "    .dataframe tbody tr th {\n",
       "        vertical-align: top;\n",
       "    }\n",
       "\n",
       "    .dataframe thead th {\n",
       "        text-align: right;\n",
       "    }\n",
       "</style>\n",
       "<table border=\"1\" class=\"dataframe\">\n",
       "  <thead>\n",
       "    <tr style=\"text-align: right;\">\n",
       "      <th></th>\n",
       "      <th>user_id</th>\n",
       "      <th>registration_date</th>\n",
       "      <th>entry_date</th>\n",
       "      <th>diff</th>\n",
       "    </tr>\n",
       "  </thead>\n",
       "  <tbody>\n",
       "    <tr>\n",
       "      <th>0</th>\n",
       "      <td>1</td>\n",
       "      <td>2021-01-01</td>\n",
       "      <td>2021-01-01</td>\n",
       "      <td>0 days</td>\n",
       "    </tr>\n",
       "    <tr>\n",
       "      <th>1</th>\n",
       "      <td>1</td>\n",
       "      <td>2021-01-01</td>\n",
       "      <td>2021-01-03</td>\n",
       "      <td>2 days</td>\n",
       "    </tr>\n",
       "    <tr>\n",
       "      <th>2</th>\n",
       "      <td>1</td>\n",
       "      <td>2021-01-01</td>\n",
       "      <td>2021-01-04</td>\n",
       "      <td>3 days</td>\n",
       "    </tr>\n",
       "    <tr>\n",
       "      <th>3</th>\n",
       "      <td>1</td>\n",
       "      <td>2021-01-01</td>\n",
       "      <td>2021-01-04</td>\n",
       "      <td>3 days</td>\n",
       "    </tr>\n",
       "    <tr>\n",
       "      <th>4</th>\n",
       "      <td>1</td>\n",
       "      <td>2021-01-01</td>\n",
       "      <td>2021-01-05</td>\n",
       "      <td>4 days</td>\n",
       "    </tr>\n",
       "  </tbody>\n",
       "</table>\n",
       "</div>"
      ],
      "text/plain": [
       "   user_id registration_date entry_date   diff\n",
       "0        1        2021-01-01 2021-01-01 0 days\n",
       "1        1        2021-01-01 2021-01-03 2 days\n",
       "2        1        2021-01-01 2021-01-04 3 days\n",
       "3        1        2021-01-01 2021-01-04 3 days\n",
       "4        1        2021-01-01 2021-01-05 4 days"
      ]
     },
     "execution_count": 2,
     "metadata": {},
     "output_type": "execute_result"
    }
   ],
   "source": [
    "df_reg = pd.read_csv('registrations.csv', sep = ';', parse_dates = ['registration_date'])\n",
    "df_ent = pd.read_csv('entrie.csv', sep = ';', parse_dates = ['entry_date'])\n",
    "\n",
    "df = pd.merge(df_reg, df_ent, on='user_id', how='inner')\n",
    "df['diff'] = df['entry_date'] - df['registration_date']\n",
    "\n",
    "df.head()"
   ]
  },
  {
   "cell_type": "markdown",
   "metadata": {},
   "source": [
    "### Посчитайте Retention 15 дня (в процентах) для пользователей, зарегистрированных в январе."
   ]
  },
  {
   "cell_type": "markdown",
   "metadata": {},
   "source": [
    "Cохраните результат в переменную retention_15_day\n",
    "\n",
    "Примечание: результат округлите до 5 знаков после запято"
   ]
  },
  {
   "cell_type": "code",
   "execution_count": 3,
   "metadata": {},
   "outputs": [],
   "source": [
    "january_cohort = df_reg[df_reg['registration_date'] <= '2021-01-31']\n",
    "return_15 = df[(df['diff'] == '15 days') & (df['registration_date'] <= '2021-01-31')]"
   ]
  },
  {
   "cell_type": "code",
   "execution_count": 4,
   "metadata": {},
   "outputs": [
    {
     "data": {
      "text/plain": [
       "54.65116"
      ]
     },
     "execution_count": 4,
     "metadata": {},
     "output_type": "execute_result"
    }
   ],
   "source": [
    "retention_15_day = round(return_15['user_id'].nunique()/january_cohort['user_id'].nunique()*100, 5)\n",
    "retention_15_day"
   ]
  },
  {
   "cell_type": "markdown",
   "metadata": {},
   "source": [
    "### Посчитайте Rolling-retention 30 дня (в процентах) для пользователей из той же когорты."
   ]
  },
  {
   "cell_type": "markdown",
   "metadata": {},
   "source": [
    "Сохраните результат в переменную rolling_retention\n",
    "\n",
    "Примечание: результат округлите до 5 знаков после запятой"
   ]
  },
  {
   "cell_type": "code",
   "execution_count": 5,
   "metadata": {},
   "outputs": [],
   "source": [
    "january_cohort = df_reg[df_reg['registration_date'] <= '2021-01-31']\n",
    "return_30 = df[(df['diff'] >= '30 days') & (df['registration_date'] <= '2021-01-31')]"
   ]
  },
  {
   "cell_type": "code",
   "execution_count": 6,
   "metadata": {},
   "outputs": [
    {
     "data": {
      "text/plain": [
       "29.06977"
      ]
     },
     "execution_count": 6,
     "metadata": {},
     "output_type": "execute_result"
    }
   ],
   "source": [
    "rolling_retention = round(return_30['user_id'].nunique()/january_cohort['user_id'].nunique()*100, 5)\n",
    "rolling_retention"
   ]
  },
  {
   "cell_type": "markdown",
   "metadata": {},
   "source": [
    "### Посчитайте Lifetime по всем пользователям как интеграл от n-day retention."
   ]
  },
  {
   "cell_type": "markdown",
   "metadata": {},
   "source": [
    "Сохраните результат в переменную lifetime\n",
    "\n",
    "Примечание: результат округлите до 5 знаков после запятой"
   ]
  },
  {
   "cell_type": "code",
   "execution_count": 7,
   "metadata": {},
   "outputs": [
    {
     "data": {
      "text/html": [
       "<div>\n",
       "<style scoped>\n",
       "    .dataframe tbody tr th:only-of-type {\n",
       "        vertical-align: middle;\n",
       "    }\n",
       "\n",
       "    .dataframe tbody tr th {\n",
       "        vertical-align: top;\n",
       "    }\n",
       "\n",
       "    .dataframe thead th {\n",
       "        text-align: right;\n",
       "    }\n",
       "</style>\n",
       "<table border=\"1\" class=\"dataframe\">\n",
       "  <thead>\n",
       "    <tr style=\"text-align: right;\">\n",
       "      <th></th>\n",
       "      <th>diff</th>\n",
       "      <th>user_id</th>\n",
       "      <th>div</th>\n",
       "    </tr>\n",
       "  </thead>\n",
       "  <tbody>\n",
       "    <tr>\n",
       "      <th>0</th>\n",
       "      <td>0 days</td>\n",
       "      <td>1000</td>\n",
       "      <td>1.000</td>\n",
       "    </tr>\n",
       "    <tr>\n",
       "      <th>1</th>\n",
       "      <td>1 days</td>\n",
       "      <td>466</td>\n",
       "      <td>0.466</td>\n",
       "    </tr>\n",
       "    <tr>\n",
       "      <th>2</th>\n",
       "      <td>2 days</td>\n",
       "      <td>471</td>\n",
       "      <td>0.471</td>\n",
       "    </tr>\n",
       "    <tr>\n",
       "      <th>3</th>\n",
       "      <td>3 days</td>\n",
       "      <td>472</td>\n",
       "      <td>0.472</td>\n",
       "    </tr>\n",
       "    <tr>\n",
       "      <th>4</th>\n",
       "      <td>4 days</td>\n",
       "      <td>477</td>\n",
       "      <td>0.477</td>\n",
       "    </tr>\n",
       "    <tr>\n",
       "      <th>5</th>\n",
       "      <td>5 days</td>\n",
       "      <td>466</td>\n",
       "      <td>0.466</td>\n",
       "    </tr>\n",
       "    <tr>\n",
       "      <th>6</th>\n",
       "      <td>6 days</td>\n",
       "      <td>473</td>\n",
       "      <td>0.473</td>\n",
       "    </tr>\n",
       "    <tr>\n",
       "      <th>7</th>\n",
       "      <td>7 days</td>\n",
       "      <td>482</td>\n",
       "      <td>0.482</td>\n",
       "    </tr>\n",
       "    <tr>\n",
       "      <th>8</th>\n",
       "      <td>8 days</td>\n",
       "      <td>494</td>\n",
       "      <td>0.494</td>\n",
       "    </tr>\n",
       "    <tr>\n",
       "      <th>9</th>\n",
       "      <td>9 days</td>\n",
       "      <td>483</td>\n",
       "      <td>0.483</td>\n",
       "    </tr>\n",
       "    <tr>\n",
       "      <th>10</th>\n",
       "      <td>10 days</td>\n",
       "      <td>466</td>\n",
       "      <td>0.466</td>\n",
       "    </tr>\n",
       "    <tr>\n",
       "      <th>11</th>\n",
       "      <td>11 days</td>\n",
       "      <td>451</td>\n",
       "      <td>0.451</td>\n",
       "    </tr>\n",
       "    <tr>\n",
       "      <th>12</th>\n",
       "      <td>12 days</td>\n",
       "      <td>474</td>\n",
       "      <td>0.474</td>\n",
       "    </tr>\n",
       "    <tr>\n",
       "      <th>13</th>\n",
       "      <td>13 days</td>\n",
       "      <td>478</td>\n",
       "      <td>0.478</td>\n",
       "    </tr>\n",
       "    <tr>\n",
       "      <th>14</th>\n",
       "      <td>14 days</td>\n",
       "      <td>476</td>\n",
       "      <td>0.476</td>\n",
       "    </tr>\n",
       "    <tr>\n",
       "      <th>15</th>\n",
       "      <td>15 days</td>\n",
       "      <td>483</td>\n",
       "      <td>0.483</td>\n",
       "    </tr>\n",
       "    <tr>\n",
       "      <th>16</th>\n",
       "      <td>16 days</td>\n",
       "      <td>478</td>\n",
       "      <td>0.478</td>\n",
       "    </tr>\n",
       "    <tr>\n",
       "      <th>17</th>\n",
       "      <td>17 days</td>\n",
       "      <td>452</td>\n",
       "      <td>0.452</td>\n",
       "    </tr>\n",
       "    <tr>\n",
       "      <th>18</th>\n",
       "      <td>18 days</td>\n",
       "      <td>475</td>\n",
       "      <td>0.475</td>\n",
       "    </tr>\n",
       "    <tr>\n",
       "      <th>19</th>\n",
       "      <td>19 days</td>\n",
       "      <td>456</td>\n",
       "      <td>0.456</td>\n",
       "    </tr>\n",
       "    <tr>\n",
       "      <th>20</th>\n",
       "      <td>20 days</td>\n",
       "      <td>502</td>\n",
       "      <td>0.502</td>\n",
       "    </tr>\n",
       "    <tr>\n",
       "      <th>21</th>\n",
       "      <td>21 days</td>\n",
       "      <td>485</td>\n",
       "      <td>0.485</td>\n",
       "    </tr>\n",
       "    <tr>\n",
       "      <th>22</th>\n",
       "      <td>22 days</td>\n",
       "      <td>473</td>\n",
       "      <td>0.473</td>\n",
       "    </tr>\n",
       "    <tr>\n",
       "      <th>23</th>\n",
       "      <td>23 days</td>\n",
       "      <td>464</td>\n",
       "      <td>0.464</td>\n",
       "    </tr>\n",
       "    <tr>\n",
       "      <th>24</th>\n",
       "      <td>24 days</td>\n",
       "      <td>495</td>\n",
       "      <td>0.495</td>\n",
       "    </tr>\n",
       "    <tr>\n",
       "      <th>25</th>\n",
       "      <td>25 days</td>\n",
       "      <td>472</td>\n",
       "      <td>0.472</td>\n",
       "    </tr>\n",
       "    <tr>\n",
       "      <th>26</th>\n",
       "      <td>26 days</td>\n",
       "      <td>454</td>\n",
       "      <td>0.454</td>\n",
       "    </tr>\n",
       "    <tr>\n",
       "      <th>27</th>\n",
       "      <td>27 days</td>\n",
       "      <td>469</td>\n",
       "      <td>0.469</td>\n",
       "    </tr>\n",
       "    <tr>\n",
       "      <th>28</th>\n",
       "      <td>28 days</td>\n",
       "      <td>416</td>\n",
       "      <td>0.416</td>\n",
       "    </tr>\n",
       "    <tr>\n",
       "      <th>29</th>\n",
       "      <td>29 days</td>\n",
       "      <td>360</td>\n",
       "      <td>0.360</td>\n",
       "    </tr>\n",
       "    <tr>\n",
       "      <th>30</th>\n",
       "      <td>30 days</td>\n",
       "      <td>241</td>\n",
       "      <td>0.241</td>\n",
       "    </tr>\n",
       "  </tbody>\n",
       "</table>\n",
       "</div>"
      ],
      "text/plain": [
       "      diff  user_id    div\n",
       "0   0 days     1000  1.000\n",
       "1   1 days      466  0.466\n",
       "2   2 days      471  0.471\n",
       "3   3 days      472  0.472\n",
       "4   4 days      477  0.477\n",
       "5   5 days      466  0.466\n",
       "6   6 days      473  0.473\n",
       "7   7 days      482  0.482\n",
       "8   8 days      494  0.494\n",
       "9   9 days      483  0.483\n",
       "10 10 days      466  0.466\n",
       "11 11 days      451  0.451\n",
       "12 12 days      474  0.474\n",
       "13 13 days      478  0.478\n",
       "14 14 days      476  0.476\n",
       "15 15 days      483  0.483\n",
       "16 16 days      478  0.478\n",
       "17 17 days      452  0.452\n",
       "18 18 days      475  0.475\n",
       "19 19 days      456  0.456\n",
       "20 20 days      502  0.502\n",
       "21 21 days      485  0.485\n",
       "22 22 days      473  0.473\n",
       "23 23 days      464  0.464\n",
       "24 24 days      495  0.495\n",
       "25 25 days      472  0.472\n",
       "26 26 days      454  0.454\n",
       "27 27 days      469  0.469\n",
       "28 28 days      416  0.416\n",
       "29 29 days      360  0.360\n",
       "30 30 days      241  0.241"
      ]
     },
     "execution_count": 7,
     "metadata": {},
     "output_type": "execute_result"
    }
   ],
   "source": [
    "n_day_retention = df.groupby(['diff'])['user_id'].agg('nunique').reset_index()\n",
    "n_day_retention['div'] = n_day_retention['user_id'] / n_day_retention.iloc[0]['user_id']\n",
    "n_day_retention"
   ]
  },
  {
   "cell_type": "code",
   "execution_count": 8,
   "metadata": {},
   "outputs": [
    {
     "data": {
      "text/plain": [
       "14.804"
      ]
     },
     "execution_count": 8,
     "metadata": {},
     "output_type": "execute_result"
    }
   ],
   "source": [
    "lifetime = round(n_day_retention['div'].sum(), 5)\n",
    "lifetime"
   ]
  },
  {
   "cell_type": "markdown",
   "metadata": {},
   "source": [
    "### Посчитайте Churn rate 29 дня (в долях) по всем пользователям."
   ]
  },
  {
   "cell_type": "markdown",
   "metadata": {},
   "source": [
    "Сохраните результат в переменную churn_29."
   ]
  },
  {
   "cell_type": "code",
   "execution_count": 9,
   "metadata": {},
   "outputs": [
    {
     "data": {
      "text/plain": [
       "0.509"
      ]
     },
     "execution_count": 9,
     "metadata": {},
     "output_type": "execute_result"
    }
   ],
   "source": [
    "return_29 = df[df['diff'] >= '29 days']\n",
    "churn_29 = (len(df_reg) - return_29['user_id'].nunique()) / len(df_reg)\n",
    "churn_29"
   ]
  },
  {
   "cell_type": "markdown",
   "metadata": {},
   "source": [
    "### Посчитайте Mau, Wau, Dau за последний месяц/неделю/день записей."
   ]
  },
  {
   "cell_type": "markdown",
   "metadata": {},
   "source": [
    "Сохраните результат в переменные dec_mau, dec_wau, dec_dau соответственно\n",
    "\n",
    "Примечание: последний месяц записей - декабрь. Поэтому mau рассчитываем для декабря (2021 года), для wau берем последнюю неделю - с 25 по 31 декабря, и для dau соответственно последний день - 31 декабря."
   ]
  },
  {
   "cell_type": "code",
   "execution_count": 10,
   "metadata": {},
   "outputs": [
    {
     "data": {
      "text/plain": [
       "133"
      ]
     },
     "execution_count": 10,
     "metadata": {},
     "output_type": "execute_result"
    }
   ],
   "source": [
    "last_month = df_ent[(df_ent['entry_date'] >= '2021-12-01') & (df_ent['entry_date'] <= '2021-12-31')]\n",
    "dec_mau = last_month['user_id'].nunique()\n",
    "dec_mau"
   ]
  },
  {
   "cell_type": "code",
   "execution_count": 11,
   "metadata": {},
   "outputs": [
    {
     "data": {
      "text/plain": [
       "84"
      ]
     },
     "execution_count": 11,
     "metadata": {},
     "output_type": "execute_result"
    }
   ],
   "source": [
    "last_week = df_ent[(df_ent['entry_date'] >= '2021-12-25') & (df_ent['entry_date'] <= '2021-12-31')]\n",
    "dec_wau = last_week['user_id'].nunique()\n",
    "dec_wau"
   ]
  },
  {
   "cell_type": "code",
   "execution_count": 12,
   "metadata": {},
   "outputs": [
    {
     "data": {
      "text/plain": [
       "47"
      ]
     },
     "execution_count": 12,
     "metadata": {},
     "output_type": "execute_result"
    }
   ],
   "source": [
    "last_day = df_ent[df_ent['entry_date'] == '2021-12-31']\n",
    "dec_dau = last_day['user_id'].nunique()\n",
    "dec_dau"
   ]
  },
  {
   "cell_type": "markdown",
   "metadata": {},
   "source": [
    "### Посчитайте Mau, Wau, Dau усредненные."
   ]
  },
  {
   "cell_type": "markdown",
   "metadata": {},
   "source": [
    "Сохраните результат в переменные avg_mau, avg_wau, avg_dau соответственно\n",
    "\n",
    "Примечание: результаты округлите до 5 знаков после запятой"
   ]
  },
  {
   "cell_type": "code",
   "execution_count": 13,
   "metadata": {},
   "outputs": [
    {
     "data": {
      "text/html": [
       "<div>\n",
       "<style scoped>\n",
       "    .dataframe tbody tr th:only-of-type {\n",
       "        vertical-align: middle;\n",
       "    }\n",
       "\n",
       "    .dataframe tbody tr th {\n",
       "        vertical-align: top;\n",
       "    }\n",
       "\n",
       "    .dataframe thead th {\n",
       "        text-align: right;\n",
       "    }\n",
       "</style>\n",
       "<table border=\"1\" class=\"dataframe\">\n",
       "  <thead>\n",
       "    <tr style=\"text-align: right;\">\n",
       "      <th></th>\n",
       "      <th>user_id</th>\n",
       "      <th>entry_date</th>\n",
       "      <th>month</th>\n",
       "      <th>week</th>\n",
       "    </tr>\n",
       "  </thead>\n",
       "  <tbody>\n",
       "    <tr>\n",
       "      <th>0</th>\n",
       "      <td>1</td>\n",
       "      <td>2021-01-01</td>\n",
       "      <td>1</td>\n",
       "      <td>53</td>\n",
       "    </tr>\n",
       "    <tr>\n",
       "      <th>1</th>\n",
       "      <td>2</td>\n",
       "      <td>2021-01-01</td>\n",
       "      <td>1</td>\n",
       "      <td>53</td>\n",
       "    </tr>\n",
       "    <tr>\n",
       "      <th>2</th>\n",
       "      <td>3</td>\n",
       "      <td>2021-01-01</td>\n",
       "      <td>1</td>\n",
       "      <td>53</td>\n",
       "    </tr>\n",
       "    <tr>\n",
       "      <th>3</th>\n",
       "      <td>4</td>\n",
       "      <td>2021-01-01</td>\n",
       "      <td>1</td>\n",
       "      <td>53</td>\n",
       "    </tr>\n",
       "    <tr>\n",
       "      <th>4</th>\n",
       "      <td>5</td>\n",
       "      <td>2021-01-01</td>\n",
       "      <td>1</td>\n",
       "      <td>53</td>\n",
       "    </tr>\n",
       "    <tr>\n",
       "      <th>...</th>\n",
       "      <td>...</td>\n",
       "      <td>...</td>\n",
       "      <td>...</td>\n",
       "      <td>...</td>\n",
       "    </tr>\n",
       "    <tr>\n",
       "      <th>20729</th>\n",
       "      <td>990</td>\n",
       "      <td>2021-12-31</td>\n",
       "      <td>12</td>\n",
       "      <td>52</td>\n",
       "    </tr>\n",
       "    <tr>\n",
       "      <th>20730</th>\n",
       "      <td>990</td>\n",
       "      <td>2021-12-31</td>\n",
       "      <td>12</td>\n",
       "      <td>52</td>\n",
       "    </tr>\n",
       "    <tr>\n",
       "      <th>20731</th>\n",
       "      <td>979</td>\n",
       "      <td>2021-12-31</td>\n",
       "      <td>12</td>\n",
       "      <td>52</td>\n",
       "    </tr>\n",
       "    <tr>\n",
       "      <th>20732</th>\n",
       "      <td>979</td>\n",
       "      <td>2021-12-31</td>\n",
       "      <td>12</td>\n",
       "      <td>52</td>\n",
       "    </tr>\n",
       "    <tr>\n",
       "      <th>20733</th>\n",
       "      <td>979</td>\n",
       "      <td>2021-12-31</td>\n",
       "      <td>12</td>\n",
       "      <td>52</td>\n",
       "    </tr>\n",
       "  </tbody>\n",
       "</table>\n",
       "<p>20734 rows × 4 columns</p>\n",
       "</div>"
      ],
      "text/plain": [
       "       user_id entry_date  month  week\n",
       "0            1 2021-01-01      1    53\n",
       "1            2 2021-01-01      1    53\n",
       "2            3 2021-01-01      1    53\n",
       "3            4 2021-01-01      1    53\n",
       "4            5 2021-01-01      1    53\n",
       "...        ...        ...    ...   ...\n",
       "20729      990 2021-12-31     12    52\n",
       "20730      990 2021-12-31     12    52\n",
       "20731      979 2021-12-31     12    52\n",
       "20732      979 2021-12-31     12    52\n",
       "20733      979 2021-12-31     12    52\n",
       "\n",
       "[20734 rows x 4 columns]"
      ]
     },
     "execution_count": 13,
     "metadata": {},
     "output_type": "execute_result"
    }
   ],
   "source": [
    "df_ent['month'] = df_ent['entry_date'].dt.month\n",
    "df_ent['week'] = df_ent['entry_date'].dt.isocalendar().week\n",
    "df_ent"
   ]
  },
  {
   "cell_type": "code",
   "execution_count": 14,
   "metadata": {},
   "outputs": [
    {
     "data": {
      "text/plain": [
       "102.58333"
      ]
     },
     "execution_count": 14,
     "metadata": {},
     "output_type": "execute_result"
    }
   ],
   "source": [
    "grouped_month = df_ent.groupby(['month'])['user_id'].agg('nunique').reset_index()\n",
    "avg_mau = round(grouped_month['user_id'].sum()/len(grouped_month),5)\n",
    "avg_mau"
   ]
  },
  {
   "cell_type": "code",
   "execution_count": 15,
   "metadata": {},
   "outputs": [
    {
     "data": {
      "text/plain": [
       "89.86792"
      ]
     },
     "execution_count": 15,
     "metadata": {},
     "output_type": "execute_result"
    }
   ],
   "source": [
    "grouped_week = df_ent.groupby(['week'])['user_id'].agg('nunique').reset_index()\n",
    "avg_wau = round(grouped_week['user_id'].sum()/len(grouped_week), 5)\n",
    "avg_wau"
   ]
  },
  {
   "cell_type": "code",
   "execution_count": 16,
   "metadata": {},
   "outputs": [
    {
     "data": {
      "text/plain": [
       "40.5589"
      ]
     },
     "execution_count": 16,
     "metadata": {},
     "output_type": "execute_result"
    }
   ],
   "source": [
    "grouped_day = df_ent.groupby(['entry_date'])['user_id'].agg('nunique').reset_index()\n",
    "avg_dau = round(grouped_day['user_id'].sum()/len(grouped_day), 5)\n",
    "avg_dau"
   ]
  }
 ],
 "metadata": {
  "kernelspec": {
   "display_name": "Python 3",
   "language": "python",
   "name": "python3"
  },
  "language_info": {
   "codemirror_mode": {
    "name": "ipython",
    "version": 3
   },
   "file_extension": ".py",
   "mimetype": "text/x-python",
   "name": "python",
   "nbconvert_exporter": "python",
   "pygments_lexer": "ipython3",
   "version": "3.8.5"
  }
 },
 "nbformat": 4,
 "nbformat_minor": 4
}
