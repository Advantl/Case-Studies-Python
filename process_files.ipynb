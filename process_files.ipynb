{
 "cells": [
  {
   "cell_type": "code",
   "execution_count": null,
   "metadata": {},
   "outputs": [],
   "source": [
    "# Файлы\n",
    "!wget https://github.com/vs8th/reports/archive/main.zip\n",
    "\n",
    "import zipfile\n",
    "\n",
    "with zipfile.ZipFile(\"main.zip\", 'r') as zip_ref:\n",
    "    zip_ref.extractall(\"/content\")\n",
    "\n",
    "!rm main.zip"
   ]
  },
  {
   "cell_type": "code",
   "execution_count": 2,
   "metadata": {},
   "outputs": [],
   "source": [
    "# Загружаем библиотеки\n",
    "import glob\n",
    "import csv\n",
    "import re\n",
    "import os "
   ]
  },
  {
   "cell_type": "code",
   "execution_count": 3,
   "metadata": {},
   "outputs": [],
   "source": [
    "def process_files(src_folder, dest_folder):\n",
    "\n",
    "    files = glob.glob(os.path.join(src_folder, '*.csv'))\n",
    "    \n",
    "    # Выбираем все файлы с названиями и расширениями, удовлетворяющими заданному условию.\n",
    "    pattern = r'\\d{4}-\\d{2}-\\d{2}-\\d{2}-\\d{2}-\\d{1,2}.csv'\n",
    "    main_files = [file for file in files if re.match(pattern, os.path.basename(file))]\n",
    "    \n",
    "    # Собираем в новый список необходимые данные.\n",
    "    res = []\n",
    "    for file in main_files:\n",
    "        with open(file) as f:\n",
    "            reader_csv = csv.DictReader(f, delimiter=';')\n",
    "            for line in reader_csv:\n",
    "                res.append({'date': line.get('date'),\n",
    "                        'product': line.get('product'),\n",
    "                        'store': line.get('store'),\n",
    "                        'cost': line.get('cost')\n",
    "                        })\n",
    "                \n",
    "    # Создаем папку для сохранения файла.\n",
    "    # Если такая папка уже существует, выводим соответствующее сообщение.\n",
    "    try:\n",
    "        os.mkdir(dest_folder)\n",
    "        print(f\"Directory '{dest_folder}' created successfully.\")\n",
    "    except FileExistsError:\n",
    "        print(f\"Directory '{dest_folder}' already exists.\")\n",
    "    \n",
    "    path_to_file = os.path.join(dest_folder, 'combined_data.csv')\n",
    "    fieldnames = ['date', 'product', 'store', 'cost']\n",
    "    \n",
    "    #Записываем данные в файл combined_data.csv \n",
    "    with open(path_to_file, mode='w', newline='') as file:\n",
    "        writer = csv.DictWriter(file, fieldnames=fieldnames, delimiter=',')\n",
    "        writer.writeheader()  # Записываем заголовки.\n",
    "        writer.writerows(res)  # Записываем данные."
   ]
  },
  {
   "cell_type": "code",
   "execution_count": null,
   "metadata": {},
   "outputs": [],
   "source": []
  }
 ],
 "metadata": {
  "kernelspec": {
   "display_name": "Python 3",
   "language": "python",
   "name": "python3"
  },
  "language_info": {
   "codemirror_mode": {
    "name": "ipython",
    "version": 3
   },
   "file_extension": ".py",
   "mimetype": "text/x-python",
   "name": "python",
   "nbconvert_exporter": "python",
   "pygments_lexer": "ipython3",
   "version": "3.8.5"
  }
 },
 "nbformat": 4,
 "nbformat_minor": 4
}
